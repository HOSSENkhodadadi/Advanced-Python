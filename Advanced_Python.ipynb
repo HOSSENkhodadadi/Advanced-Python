{
  "nbformat": 4,
  "nbformat_minor": 0,
  "metadata": {
    "colab": {
      "provenance": []
    },
    "kernelspec": {
      "name": "python3",
      "display_name": "Python 3"
    },
    "language_info": {
      "name": "python"
    }
  },
  "cells": [
    {
      "cell_type": "markdown",
      "source": [
        "##1.Functions\n",
        "add a prompt to the list explaining each"
      ],
      "metadata": {
        "id": "eyR2fdV-uZ4X"
      }
    },
    {
      "cell_type": "code",
      "execution_count": null,
      "metadata": {
        "id": "fIACm9FXlrDw"
      },
      "outputs": [],
      "source": [
        "# You can define a function inside another/Nested function\n",
        "def count_even(nums:list[int])-> int:\n",
        "    '''\n",
        "    counts number of even items inside a list\n",
        "    '''\n",
        "    def is_even(num:int)-> bool:\n",
        "        return num %2 == 0\n",
        "\n",
        "    count = 0\n",
        "    for item in nums:\n",
        "        if is_even(item):\n",
        "            count += 1\n",
        "    return count"
      ]
    },
    {
      "cell_type": "code",
      "source": [
        "#Test\n",
        "mlist = [x for x in range(100)]\n",
        "count_even(mlist)"
      ],
      "metadata": {
        "colab": {
          "base_uri": "https://localhost:8080/"
        },
        "id": "98WRjF3-xNQs",
        "outputId": "2e805ef8-2853-41d9-9228-4d9486db8a2f"
      },
      "execution_count": null,
      "outputs": [
        {
          "output_type": "execute_result",
          "data": {
            "text/plain": [
              "50"
            ]
          },
          "metadata": {},
          "execution_count": 7
        }
      ]
    },
    {
      "cell_type": "code",
      "source": [
        "def make_multiplier(x):\n",
        "    def multiplier(n):\n",
        "        return x * n\n",
        "    return multiplier\n",
        "\n",
        "double = make_multiplier(2)\n",
        "print(double(5))  # Output: 10"
      ],
      "metadata": {
        "colab": {
          "base_uri": "https://localhost:8080/"
        },
        "id": "Mp-AaNvM2Cml",
        "outputId": "ec98ea9d-a5da-403b-d2c3-1fbe9704f820"
      },
      "execution_count": null,
      "outputs": [
        {
          "output_type": "stream",
          "name": "stdout",
          "text": [
            "10\n"
          ]
        }
      ]
    },
    {
      "cell_type": "code",
      "source": [
        "def is_even(num:int)-> bool:\n",
        "        return num %2 == 0\n",
        "\n",
        "def any_even_in_list(nums: list[int])-> bool:\n",
        "    '''\n",
        "    retuns true if ANY of numbers inside the list is even\n",
        "    '''\n",
        "    for item in nums:\n",
        "        if is_even(item):\n",
        "            return True\n",
        "    return False"
      ],
      "metadata": {
        "id": "7VD55saIx7eE"
      },
      "execution_count": null,
      "outputs": []
    },
    {
      "cell_type": "code",
      "source": [
        "#Test\n",
        "mlist = [x for x in range(100)]\n",
        "any_even_in_list(mlist)"
      ],
      "metadata": {
        "colab": {
          "base_uri": "https://localhost:8080/"
        },
        "id": "IzpSJWfJy3Yr",
        "outputId": "3cef7353-6e5c-49ea-b61f-bf9075b21757"
      },
      "execution_count": null,
      "outputs": [
        {
          "output_type": "execute_result",
          "data": {
            "text/plain": [
              "True"
            ]
          },
          "metadata": {},
          "execution_count": 10
        }
      ]
    },
    {
      "cell_type": "code",
      "source": [
        "# Placeholder, exercise refactoring vs variable renaming using your IDE\n",
        "def is_even(num:int)-> bool:\n",
        "    return num%2 == 0\n",
        "def get_odds(nums: list[int]) -> list[int]:\n",
        "    '''\n",
        "    returns a list of all odd numbers included in the input list\n",
        "    '''\n",
        "    odd_nums = []\n",
        "    for item in nums:\n",
        "        if not is_even(item):\n",
        "            odd_nums.append(item)\n",
        "    return odd_nums"
      ],
      "metadata": {
        "id": "kLBIf39nzjsG"
      },
      "execution_count": null,
      "outputs": []
    },
    {
      "cell_type": "code",
      "source": [
        "#Test\n",
        "get_odds([x for x in range(20)])"
      ],
      "metadata": {
        "colab": {
          "base_uri": "https://localhost:8080/"
        },
        "id": "LCYvh6bW1weX",
        "outputId": "86061cd6-3003-4969-a084-fdc4ef0ed68e"
      },
      "execution_count": null,
      "outputs": [
        {
          "output_type": "execute_result",
          "data": {
            "text/plain": [
              "[1, 3, 5, 7, 9, 11, 13, 15, 17, 19]"
            ]
          },
          "metadata": {},
          "execution_count": 24
        }
      ]
    },
    {
      "cell_type": "code",
      "source": [
        "# Tuples in functions\n",
        "def is_even(num:int)-> bool:\n",
        "    return num%2 == 0\n",
        "def get_odds_count(nums: list[int]) -> list[int]:\n",
        "    '''\n",
        "    returns a list of all odd numbers included in the input list\n",
        "    '''\n",
        "    odd_nums = []\n",
        "    count = 0\n",
        "\n",
        "    for item in nums:\n",
        "        if not is_even(item):\n",
        "            odd_nums.append(item)\n",
        "            count += 1\n",
        "\n",
        "    return count, odd_nums"
      ],
      "metadata": {
        "id": "edG8U6Yz5KIi"
      },
      "execution_count": null,
      "outputs": []
    },
    {
      "cell_type": "code",
      "source": [
        "#Test\n",
        "x = get_odds_count([x for x in range(20)])\n",
        "print(type(x), x, sep = ' ++ ')"
      ],
      "metadata": {
        "colab": {
          "base_uri": "https://localhost:8080/"
        },
        "id": "5t_yaw6G5dAP",
        "outputId": "8b4c366e-2d09-43ea-e3d4-91a62cc65ed3"
      },
      "execution_count": null,
      "outputs": [
        {
          "output_type": "stream",
          "name": "stdout",
          "text": [
            "<class 'tuple'> ++ (10, [1, 3, 5, 7, 9, 11, 13, 15, 17, 19])\n"
          ]
        }
      ]
    },
    {
      "cell_type": "code",
      "source": [
        "# work with dictionaries\n",
        "def donation_analizer(dons:dict[str:int]):\n",
        "    total = sum(dons.values())\n",
        "    count = len(dons)\n",
        "    max_donator = max(dons, key = dons.get)\n",
        "    avg = total/count\n",
        "    return total, count, max_donator\n",
        "    # for key, value in don.items():\n",
        "    #     print(key, value)"
      ],
      "metadata": {
        "id": "eniHZJ9j8SXm"
      },
      "execution_count": null,
      "outputs": []
    },
    {
      "cell_type": "code",
      "source": [
        "#Test\n",
        "donations = {'jack':100, 'jill':200, 'john':300, 'james':400}\n",
        "_,_, max_donator = donation_analizer(donations)\n",
        "print(max_donator, 'is differnt from', max(donations), 'second one gets max based on alphabetical order')\\"
      ],
      "metadata": {
        "colab": {
          "base_uri": "https://localhost:8080/"
        },
        "id": "SgOvFNLrA21f",
        "outputId": "0c27c88d-7212-49a5-f9be-45e66706b6c3"
      },
      "execution_count": null,
      "outputs": [
        {
          "output_type": "stream",
          "name": "stdout",
          "text": [
            "james is differnt from john\n"
          ]
        }
      ]
    },
    {
      "cell_type": "code",
      "source": [
        "# Procedural vs functional programming\n",
        "from random import randint\n",
        "guess = 100\n",
        "rand_num = randint(1, 20)\n",
        "while guess != rand_num:\n",
        "    guess = int(input('Guess a number between 1 and 20: '))\n",
        "    if guess > rand_num:\n",
        "        print('Too high')\n",
        "    elif guess < rand_num:\n",
        "        print('Too low')\n",
        "    else:\n",
        "        print('Correct')"
      ],
      "metadata": {
        "colab": {
          "base_uri": "https://localhost:8080/"
        },
        "id": "tMMkqz4JENGW",
        "outputId": "10632e1c-1842-40f7-82f2-c8bf5731ee30"
      },
      "execution_count": null,
      "outputs": [
        {
          "output_type": "stream",
          "name": "stdout",
          "text": [
            "Guess a number between 1 and 20: 10\n",
            "Too low\n",
            "Guess a number between 1 and 20: 5\n",
            "Too low\n",
            "Guess a number between 1 and 20: 17\n",
            "Too high\n",
            "Guess a number between 1 and 20: 15\n",
            "Too high\n",
            "Guess a number between 1 and 20: 13\n",
            "Correct\n"
          ]
        }
      ]
    },
    {
      "cell_type": "code",
      "source": [
        "# imports\n",
        "# functions\n",
        "# initial values for the variables\n",
        "# main functionality"
      ],
      "metadata": {
        "id": "ZijNfi6bHwFq"
      },
      "execution_count": null,
      "outputs": []
    },
    {
      "cell_type": "code",
      "source": [
        "# Write random number guesser in python"
      ],
      "metadata": {
        "id": "2_JV2thxH5J9"
      },
      "execution_count": null,
      "outputs": []
    },
    {
      "cell_type": "code",
      "source": [
        "# *args\n",
        "# ** kwargs"
      ],
      "metadata": {
        "id": "B_B2kBVqMqOf"
      },
      "execution_count": null,
      "outputs": []
    },
    {
      "cell_type": "code",
      "source": [
        "#Pick the evens of a list of desired length\n",
        "def pick_even(*args):\n",
        "    def is_even(num: int)-> bool:\n",
        "        return num%2 == 0\n",
        "    evens = []\n",
        "    for item in args:\n",
        "        if is_even(item):\n",
        "            evens.append(item)\n",
        "    return evens"
      ],
      "metadata": {
        "id": "nrvvJ3iySEF-"
      },
      "execution_count": null,
      "outputs": []
    },
    {
      "cell_type": "code",
      "source": [
        "def surface_or_surround(**kwargs):\n",
        "    if \"radius\" in kwargs:\n",
        "        r = kwargs['radius']\n",
        "        return 'the surrounding area is: ', 2 * r * 3.14\n",
        "    if 'length' in kwargs:\n",
        "        return 'the rectangle surface is: ', kwargs['length'] * kwargs['height']"
      ],
      "metadata": {
        "id": "Zypm_yWZTAgq"
      },
      "execution_count": null,
      "outputs": []
    },
    {
      "cell_type": "code",
      "source": [
        "#Power\n",
        "exp, res = surface_or_surround(radius = 5)\n",
        "print(exp, round(res, 4), sep=',')"
      ],
      "metadata": {
        "colab": {
          "base_uri": "https://localhost:8080/"
        },
        "id": "pEFwaHVuUdx-",
        "outputId": "f0464cc4-effd-4805-9792-38994f9b9f1f"
      },
      "execution_count": null,
      "outputs": [
        {
          "output_type": "stream",
          "name": "stdout",
          "text": [
            "the surrounding area is: ,31.4\n"
          ]
        }
      ]
    },
    {
      "cell_type": "code",
      "source": [
        "#Anonymous Functions\n",
        "def squred(num: int)-> int:\n",
        "    return num ** 2\n",
        "\n",
        "squred_entity = map(squred, [x for x in range(10)])\n",
        "squred_anonymous = map(lambda num: num **2, [x for x in range(10)])"
      ],
      "metadata": {
        "id": "oryJ5MMjWZ6W"
      },
      "execution_count": null,
      "outputs": []
    },
    {
      "cell_type": "code",
      "source": [
        "#Test\n",
        "# it only calculates when called so it does not allocate space for the lists\n",
        "print(list(squred_entity))\n",
        "print(list(squred_anonymous))\n",
        "print(list(squred_anonymous))\n"
      ],
      "metadata": {
        "colab": {
          "base_uri": "https://localhost:8080/"
        },
        "id": "bLyNQP4EW_cW",
        "outputId": "293afab3-7311-42c7-c485-716e104c9818"
      },
      "execution_count": null,
      "outputs": [
        {
          "output_type": "stream",
          "name": "stdout",
          "text": [
            "[0, 1, 4, 9, 16, 25, 36, 49, 64, 81]\n",
            "[0, 1, 4, 9, 16, 25, 36, 49, 64, 81]\n",
            "[]\n"
          ]
        }
      ]
    },
    {
      "cell_type": "code",
      "source": [
        "# Write a program to filterout the integers of a list\n",
        "combined = [0, 1, 4.2, 9.0, 16, 25, 36.73, 49, 64, 81.15]\n",
        "def is_integer(num:int)-> bool:\n",
        "    return num == int(num)\n",
        "\n",
        "integers = filter(is_integer, combined)\n",
        "print(integers)\n",
        "print(list(integers))\n",
        "\n",
        "integers_2 = map(lambda x: int(x) == x,combined )\n",
        "print(list(integers_2))\n",
        "\n",
        "integers_3 = filter(lambda x: int(x) == x,combined )\n",
        "print(list(integers_3))"
      ],
      "metadata": {
        "colab": {
          "base_uri": "https://localhost:8080/"
        },
        "id": "XVhDL6qaYQ7B",
        "outputId": "7cedff95-65bd-4603-d48b-f565a34d3f97"
      },
      "execution_count": null,
      "outputs": [
        {
          "output_type": "stream",
          "name": "stdout",
          "text": [
            "<filter object at 0x7f7d85cdfeb0>\n",
            "[0, 1, 9.0, 16, 25, 49, 64]\n",
            "[True, True, False, True, True, True, False, True, True, False]\n",
            "[0, 1, 9.0, 16, 25, 49, 64]\n"
          ]
        }
      ]
    },
    {
      "cell_type": "code",
      "source": [
        "names = ['jack', 'john', 'ela', 'danial', 'dreck']\n",
        "long_names = filter(lambda x: len(x)> 4, names)\n",
        "print(list(long_names))"
      ],
      "metadata": {
        "colab": {
          "base_uri": "https://localhost:8080/"
        },
        "id": "8tCIWznXgUVh",
        "outputId": "37e4b60b-1199-4369-fc92-473e7e8c28ba"
      },
      "execution_count": null,
      "outputs": [
        {
          "output_type": "stream",
          "name": "stdout",
          "text": [
            "['danial', 'dreck']\n"
          ]
        }
      ]
    },
    {
      "cell_type": "markdown",
      "source": [
        "#Inheritance"
      ],
      "metadata": {
        "id": "GsCFtlFZm5y0"
      }
    },
    {
      "cell_type": "code",
      "source": [
        "# Write a book class and write a educational book class that inherits from it\n",
        "class Book:\n",
        "    def __init__(self, name, pages):\n",
        "        self.name = name\n",
        "        self.pages = pages\n",
        "    def descibe(self):\n",
        "        print(f'the book name is: {self.name}, and it has {self.pages} pages')"
      ],
      "metadata": {
        "id": "4-UuGcaDkz-L"
      },
      "execution_count": null,
      "outputs": []
    },
    {
      "cell_type": "code",
      "source": [
        "#Test\n",
        "b1= Book('The Alchemist', 200)\n",
        "b1.descibe()"
      ],
      "metadata": {
        "colab": {
          "base_uri": "https://localhost:8080/"
        },
        "id": "p9Rc_v2Amyrj",
        "outputId": "e0007a20-0d27-4ad2-9f9e-1e07232d29a7"
      },
      "execution_count": null,
      "outputs": [
        {
          "output_type": "stream",
          "name": "stdout",
          "text": [
            "the book name is: The Alchemist, and it has 200 pages\n"
          ]
        }
      ]
    },
    {
      "cell_type": "code",
      "source": [
        "class Educational(Book):\n",
        "    def __init__(self, name, pages, major, university):\n",
        "        Book.__init__(self, name, pages)\n",
        "        self.major = major\n",
        "        self.university = university\n",
        "    def describe(self):\n",
        "        print(f'The educational book name is {self.name}, it has {self.pages} pages and in {self.university} in {self.major}')"
      ],
      "metadata": {
        "id": "u_jQOqu7lp6G"
      },
      "execution_count": null,
      "outputs": []
    },
    {
      "cell_type": "code",
      "source": [
        "#Test\n",
        "eb = Educational('The Alchemist', 200, 'Philosophy', 'Harvard')\n",
        "eb.describe()"
      ],
      "metadata": {
        "colab": {
          "base_uri": "https://localhost:8080/"
        },
        "id": "zBp8ATyfmZFf",
        "outputId": "9fd1f1b7-3dcb-412e-bf74-1509d32f02e1"
      },
      "execution_count": null,
      "outputs": [
        {
          "output_type": "stream",
          "name": "stdout",
          "text": [
            "The educational book name is The Alchemist, it has 200 pages and in Harvard in Philosophy\n"
          ]
        }
      ]
    },
    {
      "cell_type": "markdown",
      "source": [
        "#Polymorphism"
      ],
      "metadata": {
        "id": "Y1nPFfudoMuu"
      }
    },
    {
      "cell_type": "code",
      "source": [
        "class Student:\n",
        "    def __init__(self, name, age):\n",
        "        self.name = name\n",
        "        self.age = age\n",
        "    def action(self):\n",
        "        print(f'My name is {self.name} and while I am {self.age} years old I just study')\n",
        "\n",
        "class Employee:\n",
        "    def __init__(self, name, age):\n",
        "        self.name = name\n",
        "        self.age = age\n",
        "    def action(self):\n",
        "        print(f'My name is {self.name} and while I am {self.age} years old I just work')"
      ],
      "metadata": {
        "id": "uZdqYEiXm3LE"
      },
      "execution_count": null,
      "outputs": []
    },
    {
      "cell_type": "code",
      "source": [
        "def show_what_doing(object):\n",
        "    object.action()\n",
        "for person in [Student('Jack', 20), Employee('John', 30)]:\n",
        "    show_what_doing(person)"
      ],
      "metadata": {
        "colab": {
          "base_uri": "https://localhost:8080/"
        },
        "id": "gTR_VMkio3UC",
        "outputId": "5455d8cb-5a6b-4640-dc1c-e2965533679d"
      },
      "execution_count": null,
      "outputs": [
        {
          "output_type": "stream",
          "name": "stdout",
          "text": [
            "My name is Jack and while I am 20 years old I just study\n",
            "My name is John and while I am 30 years old I just work\n"
          ]
        }
      ]
    },
    {
      "cell_type": "markdown",
      "source": [
        "Practical example you can have super class named file, and different types of file inherit from it but they have different show function. even with the same name it works"
      ],
      "metadata": {
        "id": "AtsxnwJupI_B"
      }
    },
    {
      "cell_type": "markdown",
      "source": [
        "#Abstract classes"
      ],
      "metadata": {
        "id": "v1fwA24QqZ4W"
      }
    },
    {
      "cell_type": "code",
      "source": [
        "class Human:\n",
        "    def __init__(self, name, age):\n",
        "        self.name = name\n",
        "        self.age = age\n",
        "    def action(self):\n",
        "        raise NotImplementedError('Subclass must implement abstract method')\n",
        "\n",
        "class Student(Human):\n",
        "    def action(self):\n",
        "        print(f'My name is {self.name} and while I am {self.age} years old I just study')"
      ],
      "metadata": {
        "id": "Nb_Tl6iJqYV0"
      },
      "execution_count": null,
      "outputs": []
    },
    {
      "cell_type": "code",
      "source": [
        "# Test\n",
        "s = Student('Jack', 20)\n",
        "s.action()\n",
        "\n",
        "h = Human('Jack', 20)\n",
        "h.action()"
      ],
      "metadata": {
        "colab": {
          "base_uri": "https://localhost:8080/",
          "height": 287
        },
        "id": "XMTVAj9eq5Va",
        "outputId": "8ec4b459-b7b3-4658-b104-25a144da0107"
      },
      "execution_count": null,
      "outputs": [
        {
          "output_type": "stream",
          "name": "stdout",
          "text": [
            "My name is Jack and while I am 20 years old I just study\n"
          ]
        },
        {
          "output_type": "error",
          "ename": "NotImplementedError",
          "evalue": "Subclass must implement abstract method",
          "traceback": [
            "\u001b[0;31m---------------------------------------------------------------------------\u001b[0m",
            "\u001b[0;31mNotImplementedError\u001b[0m                       Traceback (most recent call last)",
            "\u001b[0;32m/tmp/ipython-input-1444037920.py\u001b[0m in \u001b[0;36m<cell line: 0>\u001b[0;34m()\u001b[0m\n\u001b[1;32m      4\u001b[0m \u001b[0;34m\u001b[0m\u001b[0m\n\u001b[1;32m      5\u001b[0m \u001b[0mh\u001b[0m \u001b[0;34m=\u001b[0m \u001b[0mHuman\u001b[0m\u001b[0;34m(\u001b[0m\u001b[0;34m'Jack'\u001b[0m\u001b[0;34m,\u001b[0m \u001b[0;36m20\u001b[0m\u001b[0;34m)\u001b[0m\u001b[0;34m\u001b[0m\u001b[0;34m\u001b[0m\u001b[0m\n\u001b[0;32m----> 6\u001b[0;31m \u001b[0mh\u001b[0m\u001b[0;34m.\u001b[0m\u001b[0maction\u001b[0m\u001b[0;34m(\u001b[0m\u001b[0;34m)\u001b[0m\u001b[0;34m\u001b[0m\u001b[0;34m\u001b[0m\u001b[0m\n\u001b[0m",
            "\u001b[0;32m/tmp/ipython-input-2303674323.py\u001b[0m in \u001b[0;36maction\u001b[0;34m(self)\u001b[0m\n\u001b[1;32m      4\u001b[0m         \u001b[0mself\u001b[0m\u001b[0;34m.\u001b[0m\u001b[0mage\u001b[0m \u001b[0;34m=\u001b[0m \u001b[0mage\u001b[0m\u001b[0;34m\u001b[0m\u001b[0;34m\u001b[0m\u001b[0m\n\u001b[1;32m      5\u001b[0m     \u001b[0;32mdef\u001b[0m \u001b[0maction\u001b[0m\u001b[0;34m(\u001b[0m\u001b[0mself\u001b[0m\u001b[0;34m)\u001b[0m\u001b[0;34m:\u001b[0m\u001b[0;34m\u001b[0m\u001b[0;34m\u001b[0m\u001b[0m\n\u001b[0;32m----> 6\u001b[0;31m         \u001b[0;32mraise\u001b[0m \u001b[0mNotImplementedError\u001b[0m\u001b[0;34m(\u001b[0m\u001b[0;34m'Subclass must implement abstract method'\u001b[0m\u001b[0;34m)\u001b[0m\u001b[0;34m\u001b[0m\u001b[0;34m\u001b[0m\u001b[0m\n\u001b[0m",
            "\u001b[0;31mNotImplementedError\u001b[0m: Subclass must implement abstract method"
          ]
        }
      ]
    },
    {
      "cell_type": "markdown",
      "source": [
        "An exmaple if you would like to implement the TCP you should inherit from the Net and must implement the TCP.send() because it raises the NotImplementedError"
      ],
      "metadata": {
        "id": "7wDF2XysrMSc"
      }
    },
    {
      "cell_type": "code",
      "source": [
        "dunder methods"
      ],
      "metadata": {
        "id": "3mjINL6kt6J5"
      },
      "execution_count": null,
      "outputs": []
    }
  ]
}