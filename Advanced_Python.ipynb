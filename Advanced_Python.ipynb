{
  "nbformat": 4,
  "nbformat_minor": 0,
  "metadata": {
    "colab": {
      "provenance": [],
      "authorship_tag": "ABX9TyPgYiO5mdffXyqu1uPwOJ5T",
      "include_colab_link": true
    },
    "kernelspec": {
      "name": "python3",
      "display_name": "Python 3"
    },
    "language_info": {
      "name": "python"
    }
  },
  "cells": [
    {
      "cell_type": "markdown",
      "metadata": {
        "id": "view-in-github",
        "colab_type": "text"
      },
      "source": [
        "<a href=\"https://colab.research.google.com/github/HOSSENkhodadadi/Minimalist-Advanced-Python/blob/main/Advanced_Python.ipynb\" target=\"_parent\"><img src=\"https://colab.research.google.com/assets/colab-badge.svg\" alt=\"Open In Colab\"/></a>"
      ]
    },
    {
      "cell_type": "markdown",
      "source": [
        "#1.Functions\n",
        "##Prompt: shortly explain how/why a function can be defined within another, in python. provide one exmaple."
      ],
      "metadata": {
        "id": "eyR2fdV-uZ4X"
      }
    },
    {
      "cell_type": "code",
      "execution_count": null,
      "metadata": {
        "id": "fIACm9FXlrDw"
      },
      "outputs": [],
      "source": [
        "#count number of evens in a list\n",
        "def count_even(nums:list[int])-> int:\n",
        "    '''\n",
        "    counts number of even items inside a list\n",
        "    '''\n",
        "    def is_even(num:int)-> bool:\n",
        "        return num %2 == 0\n",
        "\n",
        "    count = 0\n",
        "    for item in nums:\n",
        "        if is_even(item):\n",
        "            count += 1\n",
        "    return count"
      ]
    },
    {
      "cell_type": "code",
      "source": [
        "#Test\n",
        "mlist = [x for x in range(100)]\n",
        "count_even(mlist)"
      ],
      "metadata": {
        "colab": {
          "base_uri": "https://localhost:8080/"
        },
        "id": "98WRjF3-xNQs",
        "outputId": "2e805ef8-2853-41d9-9228-4d9486db8a2f"
      },
      "execution_count": null,
      "outputs": [
        {
          "output_type": "execute_result",
          "data": {
            "text/plain": [
              "50"
            ]
          },
          "metadata": {},
          "execution_count": 7
        }
      ]
    },
    {
      "cell_type": "code",
      "source": [
        "#Got the point?\n",
        "def make_multiplier(x):\n",
        "    def multiplier(n):\n",
        "        return x * n\n",
        "    return multiplier\n",
        "\n",
        "double = make_multiplier(2)\n",
        "print(double(5))  # Output: 10"
      ],
      "metadata": {
        "colab": {
          "base_uri": "https://localhost:8080/"
        },
        "id": "Mp-AaNvM2Cml",
        "outputId": "ec98ea9d-a5da-403b-d2c3-1fbe9704f820"
      },
      "execution_count": null,
      "outputs": [
        {
          "output_type": "stream",
          "name": "stdout",
          "text": [
            "10\n"
          ]
        }
      ]
    },
    {
      "cell_type": "code",
      "source": [
        "# use \"\"\" functionaly description\"\"\"\n",
        "def is_even(num:int)-> bool:\n",
        "        return num %2 == 0\n",
        "\n",
        "def any_even_in_list(nums: list[int])-> bool:\n",
        "    '''\n",
        "    retuns true if ANY of numbers inside the list is even\n",
        "    '''\n",
        "    for item in nums:\n",
        "        if is_even(item):\n",
        "            return True\n",
        "    return False"
      ],
      "metadata": {
        "id": "7VD55saIx7eE"
      },
      "execution_count": null,
      "outputs": []
    },
    {
      "cell_type": "code",
      "source": [
        "#Test\n",
        "mlist = [x for x in range(100)]\n",
        "any_even_in_list(mlist)"
      ],
      "metadata": {
        "colab": {
          "base_uri": "https://localhost:8080/"
        },
        "id": "IzpSJWfJy3Yr",
        "outputId": "3cef7353-6e5c-49ea-b61f-bf9075b21757"
      },
      "execution_count": null,
      "outputs": [
        {
          "output_type": "execute_result",
          "data": {
            "text/plain": [
              "True"
            ]
          },
          "metadata": {},
          "execution_count": 10
        }
      ]
    },
    {
      "cell_type": "code",
      "source": [
        "# Placeholder, exercise refactoring vs variable renaming using your IDE\n",
        "def is_even(num:int)-> bool:\n",
        "    return num%2 == 0\n",
        "def get_odds(nums: list[int]) -> list[int]:\n",
        "    '''\n",
        "    returns a list of all odd numbers included in the input list\n",
        "    '''\n",
        "    odd_nums = []\n",
        "    for item in nums:\n",
        "        if not is_even(item):\n",
        "            odd_nums.append(item)\n",
        "    return odd_nums"
      ],
      "metadata": {
        "id": "kLBIf39nzjsG"
      },
      "execution_count": null,
      "outputs": []
    },
    {
      "cell_type": "code",
      "source": [
        "#Test\n",
        "get_odds([x for x in range(20)])"
      ],
      "metadata": {
        "colab": {
          "base_uri": "https://localhost:8080/"
        },
        "id": "LCYvh6bW1weX",
        "outputId": "86061cd6-3003-4969-a084-fdc4ef0ed68e"
      },
      "execution_count": null,
      "outputs": [
        {
          "output_type": "execute_result",
          "data": {
            "text/plain": [
              "[1, 3, 5, 7, 9, 11, 13, 15, 17, 19]"
            ]
          },
          "metadata": {},
          "execution_count": 24
        }
      ]
    },
    {
      "cell_type": "code",
      "source": [
        "# Tuples in functions\n",
        "def is_even(num:int)-> bool:\n",
        "    return num%2 == 0\n",
        "def get_odds_count(nums: list[int]) -> list[int]:\n",
        "    '''\n",
        "    returns a list of all odd numbers included in the input list\n",
        "    '''\n",
        "    odd_nums = []\n",
        "    count = 0\n",
        "\n",
        "    for item in nums:\n",
        "        if not is_even(item):\n",
        "            odd_nums.append(item)\n",
        "            count += 1\n",
        "\n",
        "    return count, odd_nums"
      ],
      "metadata": {
        "id": "edG8U6Yz5KIi"
      },
      "execution_count": null,
      "outputs": []
    },
    {
      "cell_type": "code",
      "source": [
        "#Test\n",
        "x = get_odds_count([x for x in range(20)])\n",
        "print(type(x), x, sep = ' ++ ')"
      ],
      "metadata": {
        "colab": {
          "base_uri": "https://localhost:8080/"
        },
        "id": "5t_yaw6G5dAP",
        "outputId": "8b4c366e-2d09-43ea-e3d4-91a62cc65ed3"
      },
      "execution_count": null,
      "outputs": [
        {
          "output_type": "stream",
          "name": "stdout",
          "text": [
            "<class 'tuple'> ++ (10, [1, 3, 5, 7, 9, 11, 13, 15, 17, 19])\n"
          ]
        }
      ]
    },
    {
      "cell_type": "code",
      "source": [
        "# work with dictionaries, how to extract insight from dictionaries.\n",
        "def donation_analizer(dons:dict[str:int]):\n",
        "    total = sum(dons.values())\n",
        "    count = len(dons)\n",
        "    max_donator = max(dons, key = dons.get)\n",
        "    avg = total/count\n",
        "    return total, count, max_donator\n",
        "    # for key, value in don.items():\n",
        "    #     print(key, value)"
      ],
      "metadata": {
        "id": "eniHZJ9j8SXm"
      },
      "execution_count": null,
      "outputs": []
    },
    {
      "cell_type": "code",
      "source": [
        "#Test\n",
        "donations = {'jack':100, 'jill':200, 'john':300, 'james':400}\n",
        "_,_, max_donator = donation_analizer(donations)\n",
        "print(max_donator, 'is differnt from', max(donations), 'second one gets max based on alphabetical order')\\"
      ],
      "metadata": {
        "colab": {
          "base_uri": "https://localhost:8080/"
        },
        "id": "SgOvFNLrA21f",
        "outputId": "0c27c88d-7212-49a5-f9be-45e66706b6c3"
      },
      "execution_count": null,
      "outputs": [
        {
          "output_type": "stream",
          "name": "stdout",
          "text": [
            "james is differnt from john\n"
          ]
        }
      ]
    },
    {
      "cell_type": "markdown",
      "source": [
        "##Write random number guesser in python!"
      ],
      "metadata": {
        "id": "WBqOiHG8pK-h"
      }
    },
    {
      "cell_type": "code",
      "source": [
        "# Procedural vs functional programming\n",
        "from random import randint\n",
        "guess = 100\n",
        "rand_num = randint(1, 20)\n",
        "while guess != rand_num:\n",
        "    guess = int(input('Guess a number between 1 and 20: '))\n",
        "    if guess > rand_num:\n",
        "        print('Too high')\n",
        "    elif guess < rand_num:\n",
        "        print('Too low')\n",
        "    else:\n",
        "        print('Correct')"
      ],
      "metadata": {
        "colab": {
          "base_uri": "https://localhost:8080/"
        },
        "id": "tMMkqz4JENGW",
        "outputId": "10632e1c-1842-40f7-82f2-c8bf5731ee30"
      },
      "execution_count": null,
      "outputs": [
        {
          "output_type": "stream",
          "name": "stdout",
          "text": [
            "Guess a number between 1 and 20: 10\n",
            "Too low\n",
            "Guess a number between 1 and 20: 5\n",
            "Too low\n",
            "Guess a number between 1 and 20: 17\n",
            "Too high\n",
            "Guess a number between 1 and 20: 15\n",
            "Too high\n",
            "Guess a number between 1 and 20: 13\n",
            "Correct\n"
          ]
        }
      ]
    },
    {
      "cell_type": "markdown",
      "source": [
        "## Standard template for writing programs in python!\n",
        "*   imports\n",
        "*   function\n",
        "*   initial values for the variables\n",
        "*   main functionality"
      ],
      "metadata": {
        "id": "Iv8RD37dpglM"
      }
    },
    {
      "cell_type": "markdown",
      "source": [
        "Prompt: shortly explain the difference between *args\n",
        "** kwargs, provide and example for each."
      ],
      "metadata": {
        "id": "hvjlE44eqDJV"
      }
    },
    {
      "cell_type": "code",
      "source": [
        "#Pick the evens of a list of desired length\n",
        "def pick_even(*args):\n",
        "    def is_even(num: int)-> bool:\n",
        "        return num%2 == 0\n",
        "    evens = []\n",
        "    for item in args:\n",
        "        if is_even(item):\n",
        "            evens.append(item)\n",
        "    return evens"
      ],
      "metadata": {
        "id": "nrvvJ3iySEF-"
      },
      "execution_count": null,
      "outputs": []
    },
    {
      "cell_type": "code",
      "source": [
        "def surface_or_surround(**kwargs):\n",
        "    if \"radius\" in kwargs:\n",
        "        r = kwargs['radius']\n",
        "        return 'the surrounding area is: ', 2 * r * 3.14\n",
        "    if 'length' in kwargs:\n",
        "        return 'the rectangle surface is: ', kwargs['length'] * kwargs['height']"
      ],
      "metadata": {
        "id": "Zypm_yWZTAgq"
      },
      "execution_count": null,
      "outputs": []
    },
    {
      "cell_type": "code",
      "source": [
        "#Power\n",
        "exp, res = surface_or_surround(radius = 5)\n",
        "print(exp, round(res, 4), sep=',')"
      ],
      "metadata": {
        "colab": {
          "base_uri": "https://localhost:8080/"
        },
        "id": "pEFwaHVuUdx-",
        "outputId": "f0464cc4-effd-4805-9792-38994f9b9f1f"
      },
      "execution_count": null,
      "outputs": [
        {
          "output_type": "stream",
          "name": "stdout",
          "text": [
            "the surrounding area is: ,31.4\n"
          ]
        }
      ]
    },
    {
      "cell_type": "markdown",
      "source": [
        "Prompt: shortly explain the functioanlity of anonymous functions, provide an example."
      ],
      "metadata": {
        "id": "0n1w2E7iqhSL"
      }
    },
    {
      "cell_type": "code",
      "source": [
        "#Retrun the squred of a list using Anonymous Functions\n",
        "def squred(num: int)-> int:\n",
        "    return num ** 2\n",
        "\n",
        "squred_entity = map(squred, [x for x in range(10)])\n",
        "squred_anonymous = map(lambda num: num **2, [x for x in range(10)])"
      ],
      "metadata": {
        "id": "oryJ5MMjWZ6W"
      },
      "execution_count": null,
      "outputs": []
    },
    {
      "cell_type": "code",
      "source": [
        "#Test\n",
        "# it only calculates when called so it does not allocate space for the lists\n",
        "print(list(squred_entity))\n",
        "print(list(squred_anonymous))\n",
        "print(list(squred_anonymous))\n"
      ],
      "metadata": {
        "colab": {
          "base_uri": "https://localhost:8080/"
        },
        "id": "bLyNQP4EW_cW",
        "outputId": "293afab3-7311-42c7-c485-716e104c9818"
      },
      "execution_count": null,
      "outputs": [
        {
          "output_type": "stream",
          "name": "stdout",
          "text": [
            "[0, 1, 4, 9, 16, 25, 36, 49, 64, 81]\n",
            "[0, 1, 4, 9, 16, 25, 36, 49, 64, 81]\n",
            "[]\n"
          ]
        }
      ]
    },
    {
      "cell_type": "code",
      "source": [
        "# Write a program to filterout the integers of a list\n",
        "combined = [0, 1, 4.2, 9.0, 16, 25, 36.73, 49, 64, 81.15]\n",
        "def is_integer(num:int)-> bool:\n",
        "    return num == int(num)\n",
        "\n",
        "integers = filter(is_integer, combined)\n",
        "print(integers)\n",
        "print(list(integers))\n",
        "\n",
        "integers_2 = map(lambda x: int(x) == x,combined )\n",
        "print(list(integers_2))\n",
        "\n",
        "integers_3 = filter(lambda x: int(x) == x,combined )\n",
        "print(list(integers_3))"
      ],
      "metadata": {
        "colab": {
          "base_uri": "https://localhost:8080/"
        },
        "id": "XVhDL6qaYQ7B",
        "outputId": "7cedff95-65bd-4603-d48b-f565a34d3f97"
      },
      "execution_count": null,
      "outputs": [
        {
          "output_type": "stream",
          "name": "stdout",
          "text": [
            "<filter object at 0x7f7d85cdfeb0>\n",
            "[0, 1, 9.0, 16, 25, 49, 64]\n",
            "[True, True, False, True, True, True, False, True, True, False]\n",
            "[0, 1, 9.0, 16, 25, 49, 64]\n"
          ]
        }
      ]
    },
    {
      "cell_type": "code",
      "source": [
        "names = ['jack', 'john', 'ela', 'danial', 'dreck']\n",
        "long_names = filter(lambda x: len(x)> 4, names)\n",
        "print(list(long_names))"
      ],
      "metadata": {
        "colab": {
          "base_uri": "https://localhost:8080/"
        },
        "id": "8tCIWznXgUVh",
        "outputId": "37e4b60b-1199-4369-fc92-473e7e8c28ba"
      },
      "execution_count": null,
      "outputs": [
        {
          "output_type": "stream",
          "name": "stdout",
          "text": [
            "['danial', 'dreck']\n"
          ]
        }
      ]
    },
    {
      "cell_type": "markdown",
      "source": [
        "#Inheritance\n",
        "Prompt: shortly explain the concept and implementation of inheritance in OOP, provide an example."
      ],
      "metadata": {
        "id": "GsCFtlFZm5y0"
      }
    },
    {
      "cell_type": "code",
      "source": [
        "# Write a book class and write a educational book class that inherits from it\n",
        "class Book:\n",
        "    def __init__(self, name, pages):\n",
        "        self.name = name\n",
        "        self.pages = pages\n",
        "    def descibe(self):\n",
        "        print(f'the book name is: {self.name}, and it has {self.pages} pages')"
      ],
      "metadata": {
        "id": "4-UuGcaDkz-L"
      },
      "execution_count": null,
      "outputs": []
    },
    {
      "cell_type": "code",
      "source": [
        "#Test\n",
        "b1= Book('The Alchemist', 200)\n",
        "b1.descibe()"
      ],
      "metadata": {
        "colab": {
          "base_uri": "https://localhost:8080/"
        },
        "id": "p9Rc_v2Amyrj",
        "outputId": "e0007a20-0d27-4ad2-9f9e-1e07232d29a7"
      },
      "execution_count": null,
      "outputs": [
        {
          "output_type": "stream",
          "name": "stdout",
          "text": [
            "the book name is: The Alchemist, and it has 200 pages\n"
          ]
        }
      ]
    },
    {
      "cell_type": "code",
      "source": [
        "class Educational(Book):\n",
        "    def __init__(self, name, pages, major, university):\n",
        "        Book.__init__(self, name, pages)\n",
        "        self.major = major\n",
        "        self.university = university\n",
        "    def describe(self):\n",
        "        print(f'The educational book name is {self.name}, it has {self.pages} pages and in {self.university} in {self.major}')"
      ],
      "metadata": {
        "id": "u_jQOqu7lp6G"
      },
      "execution_count": null,
      "outputs": []
    },
    {
      "cell_type": "code",
      "source": [
        "#Test\n",
        "eb = Educational('The Alchemist', 200, 'Philosophy', 'Harvard')\n",
        "eb.describe()"
      ],
      "metadata": {
        "colab": {
          "base_uri": "https://localhost:8080/"
        },
        "id": "zBp8ATyfmZFf",
        "outputId": "9fd1f1b7-3dcb-412e-bf74-1509d32f02e1"
      },
      "execution_count": null,
      "outputs": [
        {
          "output_type": "stream",
          "name": "stdout",
          "text": [
            "The educational book name is The Alchemist, it has 200 pages and in Harvard in Philosophy\n"
          ]
        }
      ]
    },
    {
      "cell_type": "markdown",
      "source": [
        "#Polymorphism\n",
        "Prompt: shortly explain the concept and implementation of inheritance in OOP, provide an example."
      ],
      "metadata": {
        "id": "Y1nPFfudoMuu"
      }
    },
    {
      "cell_type": "code",
      "source": [
        "class Student:\n",
        "    def __init__(self, name, age):\n",
        "        self.name = name\n",
        "        self.age = age\n",
        "    def action(self):\n",
        "        print(f'My name is {self.name} and while I am {self.age} years old I just study')\n",
        "\n",
        "class Employee:\n",
        "    def __init__(self, name, age):\n",
        "        self.name = name\n",
        "        self.age = age\n",
        "    def action(self):\n",
        "        print(f'My name is {self.name} and while I am {self.age} years old I just work')"
      ],
      "metadata": {
        "id": "uZdqYEiXm3LE"
      },
      "execution_count": null,
      "outputs": []
    },
    {
      "cell_type": "code",
      "source": [
        "def show_what_doing(object):\n",
        "    object.action()\n",
        "for person in [Student('Jack', 20), Employee('John', 30)]:\n",
        "    show_what_doing(person)"
      ],
      "metadata": {
        "colab": {
          "base_uri": "https://localhost:8080/"
        },
        "id": "gTR_VMkio3UC",
        "outputId": "5455d8cb-5a6b-4640-dc1c-e2965533679d"
      },
      "execution_count": null,
      "outputs": [
        {
          "output_type": "stream",
          "name": "stdout",
          "text": [
            "My name is Jack and while I am 20 years old I just study\n",
            "My name is John and while I am 30 years old I just work\n"
          ]
        }
      ]
    },
    {
      "cell_type": "markdown",
      "source": [
        "Practical example you can have super class named file, and different types of file inherit from it but they have different show function. even with the same name it works"
      ],
      "metadata": {
        "id": "AtsxnwJupI_B"
      }
    },
    {
      "cell_type": "markdown",
      "source": [
        "#Abstract classes\n",
        "\n",
        "Prompt: shortly explain the concept and implementation of Abstract classes in OOP, provide an example."
      ],
      "metadata": {
        "id": "v1fwA24QqZ4W"
      }
    },
    {
      "cell_type": "code",
      "source": [
        "class Human:\n",
        "    def __init__(self, name, age):\n",
        "        self.name = name\n",
        "        self.age = age\n",
        "    def action(self):\n",
        "        raise NotImplementedError('Subclass must implement abstract method')\n",
        "\n",
        "class Student(Human):\n",
        "    def action(self):\n",
        "        print(f'My name is {self.name} and while I am {self.age} years old I just study')"
      ],
      "metadata": {
        "id": "Nb_Tl6iJqYV0"
      },
      "execution_count": null,
      "outputs": []
    },
    {
      "cell_type": "code",
      "source": [
        "# Test\n",
        "s = Student('Jack', 20)\n",
        "s.action()\n",
        "\n",
        "h = Human('Jack', 20)\n",
        "h.action()"
      ],
      "metadata": {
        "colab": {
          "base_uri": "https://localhost:8080/",
          "height": 287
        },
        "id": "XMTVAj9eq5Va",
        "outputId": "8ec4b459-b7b3-4658-b104-25a144da0107"
      },
      "execution_count": null,
      "outputs": [
        {
          "output_type": "stream",
          "name": "stdout",
          "text": [
            "My name is Jack and while I am 20 years old I just study\n"
          ]
        },
        {
          "output_type": "error",
          "ename": "NotImplementedError",
          "evalue": "Subclass must implement abstract method",
          "traceback": [
            "\u001b[0;31m---------------------------------------------------------------------------\u001b[0m",
            "\u001b[0;31mNotImplementedError\u001b[0m                       Traceback (most recent call last)",
            "\u001b[0;32m/tmp/ipython-input-1444037920.py\u001b[0m in \u001b[0;36m<cell line: 0>\u001b[0;34m()\u001b[0m\n\u001b[1;32m      4\u001b[0m \u001b[0;34m\u001b[0m\u001b[0m\n\u001b[1;32m      5\u001b[0m \u001b[0mh\u001b[0m \u001b[0;34m=\u001b[0m \u001b[0mHuman\u001b[0m\u001b[0;34m(\u001b[0m\u001b[0;34m'Jack'\u001b[0m\u001b[0;34m,\u001b[0m \u001b[0;36m20\u001b[0m\u001b[0;34m)\u001b[0m\u001b[0;34m\u001b[0m\u001b[0;34m\u001b[0m\u001b[0m\n\u001b[0;32m----> 6\u001b[0;31m \u001b[0mh\u001b[0m\u001b[0;34m.\u001b[0m\u001b[0maction\u001b[0m\u001b[0;34m(\u001b[0m\u001b[0;34m)\u001b[0m\u001b[0;34m\u001b[0m\u001b[0;34m\u001b[0m\u001b[0m\n\u001b[0m",
            "\u001b[0;32m/tmp/ipython-input-2303674323.py\u001b[0m in \u001b[0;36maction\u001b[0;34m(self)\u001b[0m\n\u001b[1;32m      4\u001b[0m         \u001b[0mself\u001b[0m\u001b[0;34m.\u001b[0m\u001b[0mage\u001b[0m \u001b[0;34m=\u001b[0m \u001b[0mage\u001b[0m\u001b[0;34m\u001b[0m\u001b[0;34m\u001b[0m\u001b[0m\n\u001b[1;32m      5\u001b[0m     \u001b[0;32mdef\u001b[0m \u001b[0maction\u001b[0m\u001b[0;34m(\u001b[0m\u001b[0mself\u001b[0m\u001b[0;34m)\u001b[0m\u001b[0;34m:\u001b[0m\u001b[0;34m\u001b[0m\u001b[0;34m\u001b[0m\u001b[0m\n\u001b[0;32m----> 6\u001b[0;31m         \u001b[0;32mraise\u001b[0m \u001b[0mNotImplementedError\u001b[0m\u001b[0;34m(\u001b[0m\u001b[0;34m'Subclass must implement abstract method'\u001b[0m\u001b[0;34m)\u001b[0m\u001b[0;34m\u001b[0m\u001b[0;34m\u001b[0m\u001b[0m\n\u001b[0m",
            "\u001b[0;31mNotImplementedError\u001b[0m: Subclass must implement abstract method"
          ]
        }
      ]
    },
    {
      "cell_type": "markdown",
      "source": [
        "An exmaple if you would like to implement the TCP you should inherit from the Net and must implement the TCP.send() because it raises the NotImplementedError"
      ],
      "metadata": {
        "id": "7wDF2XysrMSc"
      }
    },
    {
      "cell_type": "markdown",
      "source": [
        "#Dunder Methods\\Special\\magice\n",
        "Prompt: shortly explain the concept and implementation of dunder methods in python, provide an example."
      ],
      "metadata": {
        "id": "hwZWeY1arh48"
      }
    },
    {
      "cell_type": "code",
      "source": [
        "class Book:\n",
        "    def __init__(self, name = 'Unkonwn', pages = 0):\n",
        "        self.name = name\n",
        "        self.pages = pages\n",
        "    def __str__(self):\n",
        "        return f'the book name is: {self.name}, and it has {self.pages} pages'\n",
        "    def __len__(self):\n",
        "        return self.pages\n",
        "    def __del__ (self):\n",
        "        print(f\"Oh the {self.name} book is deleted. \")\n"
      ],
      "metadata": {
        "id": "3mjINL6kt6J5"
      },
      "execution_count": null,
      "outputs": []
    },
    {
      "cell_type": "code",
      "source": [
        "#Test\n",
        "b1= Book('The Alchemist', 200)\n",
        "b2 = Book()\n",
        "del(b2)\n",
        "print(b1)\n",
        "print(len(b1))\n",
        "print(str(b1))\n",
        "\n",
        "print(b2)\n",
        "print(len(b2))\n",
        "print(str(b2))\n",
        "\n",
        "b2.__del__()\n",
        "print(b2)\n",
        "\n"
      ],
      "metadata": {
        "colab": {
          "base_uri": "https://localhost:8080/",
          "height": 305
        },
        "id": "7uGHk_GX9_Qf",
        "outputId": "bc029241-72b2-48b1-bd70-259cfd899c45"
      },
      "execution_count": null,
      "outputs": [
        {
          "output_type": "stream",
          "name": "stdout",
          "text": [
            "Oh the The Alchemist book is deleted. \n",
            "Oh the Unkonwn book is deleted. \n",
            "the book name is: The Alchemist, and it has 200 pages\n",
            "200\n",
            "the book name is: The Alchemist, and it has 200 pages\n"
          ]
        },
        {
          "output_type": "error",
          "ename": "NameError",
          "evalue": "name 'b2' is not defined",
          "traceback": [
            "\u001b[0;31m---------------------------------------------------------------------------\u001b[0m",
            "\u001b[0;31mNameError\u001b[0m                                 Traceback (most recent call last)",
            "\u001b[0;32m/tmp/ipython-input-3392183321.py\u001b[0m in \u001b[0;36m<cell line: 0>\u001b[0;34m()\u001b[0m\n\u001b[1;32m      7\u001b[0m \u001b[0mprint\u001b[0m\u001b[0;34m(\u001b[0m\u001b[0mstr\u001b[0m\u001b[0;34m(\u001b[0m\u001b[0mb1\u001b[0m\u001b[0;34m)\u001b[0m\u001b[0;34m)\u001b[0m\u001b[0;34m\u001b[0m\u001b[0;34m\u001b[0m\u001b[0m\n\u001b[1;32m      8\u001b[0m \u001b[0;34m\u001b[0m\u001b[0m\n\u001b[0;32m----> 9\u001b[0;31m \u001b[0mprint\u001b[0m\u001b[0;34m(\u001b[0m\u001b[0mb2\u001b[0m\u001b[0;34m)\u001b[0m\u001b[0;34m\u001b[0m\u001b[0;34m\u001b[0m\u001b[0m\n\u001b[0m\u001b[1;32m     10\u001b[0m \u001b[0mprint\u001b[0m\u001b[0;34m(\u001b[0m\u001b[0mlen\u001b[0m\u001b[0;34m(\u001b[0m\u001b[0mb2\u001b[0m\u001b[0;34m)\u001b[0m\u001b[0;34m)\u001b[0m\u001b[0;34m\u001b[0m\u001b[0;34m\u001b[0m\u001b[0m\n\u001b[1;32m     11\u001b[0m \u001b[0mprint\u001b[0m\u001b[0;34m(\u001b[0m\u001b[0mstr\u001b[0m\u001b[0;34m(\u001b[0m\u001b[0mb2\u001b[0m\u001b[0;34m)\u001b[0m\u001b[0;34m)\u001b[0m\u001b[0;34m\u001b[0m\u001b[0;34m\u001b[0m\u001b[0m\n",
            "\u001b[0;31mNameError\u001b[0m: name 'b2' is not defined"
          ]
        }
      ]
    },
    {
      "cell_type": "markdown",
      "source": [
        "#Packages\n",
        "Prompt: shortly explain the concept/implementation of libraries, packages, their difference."
      ],
      "metadata": {
        "id": "mxd6jM_IAfCG"
      }
    },
    {
      "cell_type": "code",
      "source": [
        "packages __init__().py\n",
        "tree\n",
        "beautiful soup"
      ],
      "metadata": {
        "id": "Nx444wDhOGsg"
      },
      "execution_count": null,
      "outputs": []
    },
    {
      "cell_type": "markdown",
      "source": [
        "#Webscraping\n",
        "Prompt: shortly explain the concept/implementation of webscraping methods\n",
        "https://www.youtube.com/watch?v=L6jFHroFh8U\n",
        "https://www.youtube.com/watch?v=i53fcu7xm90"
      ],
      "metadata": {
        "id": "CQk92VGtJ0Ga"
      }
    },
    {
      "cell_type": "code",
      "source": [
        "!pip install lxml\n",
        "!pip install requests\n",
        "!pip install bs4"
      ],
      "metadata": {
        "colab": {
          "base_uri": "https://localhost:8080/"
        },
        "id": "3b61TilOJzMd",
        "outputId": "a3d09ada-5286-4d36-809c-a1f08a10bf17"
      },
      "execution_count": null,
      "outputs": [
        {
          "output_type": "stream",
          "name": "stdout",
          "text": [
            "Requirement already satisfied: lxml in /usr/local/lib/python3.12/dist-packages (5.4.0)\n",
            "\u001b[31mERROR: Could not find a version that satisfies the requirement request (from versions: none)\u001b[0m\u001b[31m\n",
            "\u001b[0m\u001b[31mERROR: No matching distribution found for request\u001b[0m\u001b[31m\n",
            "\u001b[0mCollecting bs4\n",
            "  Downloading bs4-0.0.2-py2.py3-none-any.whl.metadata (411 bytes)\n",
            "Requirement already satisfied: beautifulsoup4 in /usr/local/lib/python3.12/dist-packages (from bs4) (4.13.5)\n",
            "Requirement already satisfied: soupsieve>1.2 in /usr/local/lib/python3.12/dist-packages (from beautifulsoup4->bs4) (2.8)\n",
            "Requirement already satisfied: typing-extensions>=4.0.0 in /usr/local/lib/python3.12/dist-packages (from beautifulsoup4->bs4) (4.15.0)\n",
            "Downloading bs4-0.0.2-py2.py3-none-any.whl (1.2 kB)\n",
            "Installing collected packages: bs4\n",
            "Successfully installed bs4-0.0.2\n"
          ]
        }
      ]
    },
    {
      "cell_type": "markdown",
      "source": [
        "Sockets\n",
        "urllib\n",
        "requests"
      ],
      "metadata": {
        "id": "9dj5ZGGfUE-9"
      }
    },
    {
      "cell_type": "code",
      "source": [
        "import requests\n",
        "req = requests.get('https://hossenkhodadadi.github.io/')\n",
        "# Search http response codes 2 ok, 3 redirect, 4 your problem, 5 server error\n",
        "# Search http response cat\n",
        "print(req)\n",
        "type(req)\n",
        "req.text"
      ],
      "metadata": {
        "colab": {
          "base_uri": "https://localhost:8080/",
          "height": 1000
        },
        "id": "iSiiibHvUHzS",
        "outputId": "c3fb551c-3014-4c1c-99ae-9866ee1dc328"
      },
      "execution_count": null,
      "outputs": [
        {
          "output_type": "stream",
          "name": "stdout",
          "text": [
            "<Response [200]>\n"
          ]
        },
        {
          "output_type": "execute_result",
          "data": {
            "text/plain": [
              "'<!DOCTYPE html>\\n<html lang=\"en\">\\n<head>\\n    <meta charset=\"UTF-8\">\\n    <meta name=\"viewport\" content=\"width=device-width, initial-scale=1.0\">\\n    <meta name=\"viewport\" content=\"width=device-width, initial-scale=1.0\">\\n    <title>My Personal Page</title>\\n    <link rel=\"stylesheet\" href=\"assets/css/style.css\">\\n    <link rel=\"icon\" href=\"images/x-icon.webp\" type=\"image/x-icon\">\\n    <link rel=\"stylesheet\" href=\"https://cdnjs.cloudflare.com/ajax/libs/font-awesome/6.0.0-beta3/css/all.min.css\">\\n    <script src=\"https://cdn.jsdelivr.net/particles.js/2.0.0/particles.min.js\"></script>\\n\\n</head>\\n<body>\\n    <header>\\n        <div class=\"hamburger-menu\" id=\"hamburger-menu\">\\n            <div class=\"hamburger-line\"></div>\\n            <div class=\"hamburger-line\"></div>\\n            <div class=\"hamburger-line\"></div>\\n        </div>\\n        <nav id=\"nav-menu\">\\n            <ul>\\n                <li><a href=\"#home\">Home</a></li>\\n                <li><a href=\"#about\">About</a></li>\\n                <li><a href=\"#education\">Education</a></li>\\n                <li><a href=\"#projects\">Projects</a></li>\\n                <li><a href=\"#articles\">Articles</a></li>\\n                <li><a href=\"#skills\">Skills</a></li>\\n                <li><a href=\"#contact\">Contact</a></li>\\n            </ul>\\n        </nav>\\n    </header>\\n\\n    <section id=\"home\" class=\"section\">\\n        <div class=\"overlay\">\\n            <p1>my name is</p1>\\n            <h1>Hossein Khodadadi</h1>\\n            <p>I am a passionate Data Science enthusiast, trying to expand my skills in Software Engineering. Currently I\\'m studying Data Science at Politecnico di Torino. Please scroll down to know more about me.</p>\\n            <div class=\"social-icons\">\\n                <a href=\"https://x.com/HoseineKhodadad\" target=\"_blank\"><i class=\"fab fa-twitter\"></i> X</a>\\n                <a href=\"https://github.com/HOSSENkhodadadi\" target=\"_blank\"><i class=\"fab fa-github\"></i> GitHub</a>\\n                <a href=\"https://www.linkedin.com/in/hosseinekhodadadi/\" target=\"_blank\"><i class=\"fab fa-linkedin\"></i> LinkedIn</a>\\n                <a href=\"mailto:hosseinekhodadadi@gmail.com\"><i class=\"fas fa-envelope\"></i> Email</a>\\n            </div>\\n            <div class=\"scroll-down\">\\n                <a href=\"#about\">&#x25BC;</a>\\n            </div>\\n        </div>\\n    </section>\\n\\n    <section id=\"about\" class=\"about-section\">\\n        <div id=\"particles-js\"></div>\\n        <div class=\"container\">\\n            <div class=\"about-content\">\\n                <div class=\"about-image\">\\n                    <img src=\"images/me.jpeg\" alt=\"Your Name\">\\n                </div>\\n                <div class=\"about-info\">\\n                    <h2>About Me</h2>\\n                    <p>Hello! I\\'m Hossein Khodadadi.I\\'m a Master\\'s student in Data Science and Engineering at Politecnico di Torino, passionate about Machine Learning, NLP, and Software Engineering. Lately, I\\'ve been diving deep into Large Language Models and Computational Intelligence. I started my journey with a Bachelor\\'s in Electrical and Telecommunication Engineering, ranking in the top 5 of my class (GPA: 3.54/4) at one of top universities in my home country. I\\'m always eager to learn, grow, and tackle new challenges.</p>\\n                    <p>Feel free to explore my projects in Github to know more about my work. I\\'m always open to discussing new opportunities and collaborations.</p>\\n                    <ul class=\"contact-info\">\\n                        <li><strong>Email:</strong> hosseinekhodadadi@gmail.com</li>\\n                        <li><strong>Location:</strong> Torino, Italy</li>\\n                    </ul>\\n                    <a href=\"https://drive.google.com/file/d/1gSjuIKMXe5gDSwhGrFTdDtgqDAC6iuYv/view?usp=sharing\" class=\"btn-cv\" download>Download CV</a>\\n                    <a href=\"https://cal.com/hossein-khodadadi/30min?overlayCalendar=true\" class=\"btn-cv\" download>Let\\'s meet:)</a>\\n                </div>\\n            </div>\\n        </div>\\n    </section>\\n\\n\\n    <script src=\"assets/js/script.js\"></script>\\n\\n    <script>\\n        document.querySelectorAll(\\'a[href^=\"#\"]\\').forEach(anchor => {\\n            anchor.addEventListener(\\'click\\', function(e) {\\n                e.preventDefault();\\n\\n                document.querySelector(this.getAttribute(\\'href\\')).scrollIntoView({\\n                    behavior: \\'smooth\\'\\n                });\\n            });\\n        });\\n    </script>\\n\\n<section id=\"projects\" class=\"projects-section\">\\n    <div class=\"container\">\\n        <h2>Projects</h2>\\n        <div class=\"projects-grid\">\\n\\n\\n            <!-- Project 2 -->\\n            <div class=\"project-card\">\\n                <img src=\"images/project_images/proj_2_AlexNet.png\" alt=\"Project 2\">\\n                <div class=\"project-info\">\\n                    <h3>Caltech Classification and Fine Tuning on AlexNet (Classification, Deep Learning)</h3>\\n                    <p>AlexNet model was used to predict in low data regimes and a large number of classes. different fine-tuning techniques were used to improve the accuracy. Tech: Weights&Biasses, Pytorch</p>\\n                    <a href=\"https://github.com/HOSSENkhodadadi/Projects/tree/main/caltech_classification_fine_tuning_alexNet\" target=\"_blank\" class=\"project-link\">View on GitHub</a>\\n                </div>\\n            </div>\\n\\n            <!-- Project 1 -->\\n            <div class=\"project-card\">\\n                <img src=\"images/project_images/proj1_Agent_2.jpg\" alt=\"Project 1\">\\n                <div class=\"project-info\">\\n                    <h3>Reinforcement Learning on Game Agent Training for Quixo Board Game (RL, Deep RL)</h3>\\n                    <p>Min-Max algorithm was implemented to play Quixo game with 95% win rate against a random player. Tech: Python, Pytorch</p>\\n                    <a href=\"https://github.com/HOSSENkhodadadi/Quixo_Game_Player_Min_Max\" target=\"_blank\" class=\"project-link\">View on GitHub</a>\\n                </div>\\n            </div>\\n\\n\\n            <!-- Project 3 -->\\n            <div class=\"project-card\">\\n                <img src=\"images/project_images/proj3_FL.webp\" alt=\"Project 2\">\\n                <div class=\"project-info\">\\n                    <h3>A Novel Approach for Improving Generalization in Federated Learning Through Corrective Gradient Weights</h3>\\n                    <p>he Federated Learning paradigm was implemented to train a central Neural Network Model without intruding the clients privacy, the model improved by adding the Corrective Gradient Weights . Tech: Python, PyTorch</p>\\n                    <a href=\"https://github.com/HOSSENkhodadadi/Projects/tree/main/A%20Novel%20Approach%20for%20Improving%20Generalization%20in%20Federated\" target=\"_blank\" class=\"project-link\">View on GitHub</a>\\n                </div>\\n            </div>\\n\\n            <!-- Project 3 -->\\n            <div class=\"project-card\">\\n                <img src=\"images/project_images/proj4_mfcc.png\" alt=\"Project 2\">\\n                <div class=\"project-info\">\\n                    <h3>Audio Intent Detection Using MFCC</h3>\\n                    <p>A deep learning model was designed to classify audio files using MFCC method. Tech: Python, TensorFlow, Keras.</p>\\n                    <a href=\"https://github.com/HOSSENkhodadadi/Projects/tree/main/Intent%20Detection%20on%20the%20Fluent%20Speech%20Commands\" target=\"_blank\" class=\"project-link\">View on GitHub</a>\\n                </div>\\n            </div>\\n\\n            <!-- More project cards can be added similarly -->\\n        </div>\\n    </div>\\n</section>\\n<!-- Articles Section -->\\n<section id=\"articles\" class=\"articles-section\">\\n    <div id=\"particles-js-articles\"></div>\\n    <div class=\"container\">\\n        <h2>Articles</h2>\\n        <div class=\"articles-grid\">\\n            <!-- Article 1 -->\\n            <div class=\"article-card\">\\n                <img src=\"images/project_images/proj3_FL.webp\" alt=\"Federated Learning Article\">\\n                <div class=\"article-info\">\\n                    <h3>Improving Generalization in Federated Learning Through Corrective Gradient Weights</h3>\\n                    <p>An in-depth exploration of how corrective gradient weights can enhance model generalization in federated learning environments, addressing privacy-preserving machine learning challenges.</p>\\n                    <div class=\"article-meta\">\\n                        <span class=\"article-date\">Published: March 15, 2024</span>\\n                    </div>\\n                    <a href=\"articles/federated-learning-article.html\" class=\"article-link\">Read Full Article</a>\\n                </div>\\n            </div>\\n\\n            <!-- Article 2 -->\\n            <div class=\"article-card\">\\n                <img src=\"images/project_images/proj_2_AlexNet.png\" alt=\"Deep Learning Article\">\\n                <div class=\"article-info\">\\n                    <h3>Fine-Tuning Strategies for Deep Learning Models in Low-Data Regimes</h3>\\n                    <p>A comprehensive guide to effective fine-tuning techniques for neural networks when working with limited datasets, focusing on transfer learning and data augmentation strategies.</p>\\n                    <div class=\"article-meta\">\\n                        <span class=\"article-date\">Published: February 28, 2024</span>\\n                    </div>\\n                    <a href=\"articles/deep-learning-finetuning-article.html\" class=\"article-link\">Read Full Article</a>\\n                </div>\\n            </div>\\n\\n            <!-- Article 3 -->\\n            <div class=\"article-card\">\\n                <img src=\"images/project_images/proj4_mfcc.png\" alt=\"Audio Processing Article\">\\n                <div class=\"article-info\">\\n                    <h3>Audio Intent Detection Using MFCC: A Deep Learning Approach</h3>\\n                    <p>Exploring the application of Mel-Frequency Cepstral Coefficients (MFCC) in audio processing for intent detection, covering feature extraction and neural network architectures.</p>\\n                    <div class=\"article-meta\">\\n                        <span class=\"article-date\">Published: February 10, 2024</span>\\n                    </div>\\n                    <a href=\"articles/audio-intent-detection-article.html\" class=\"article-link\">Read Full Article</a>\\n                </div>\\n            </div>\\n\\n            <!-- Article 4 -->\\n            <div class=\"article-card\">\\n                <img src=\"images/project_images/proj1_Agent_2.jpg\" alt=\"Reinforcement Learning Article\">\\n                <div class=\"article-info\">\\n                    <h3>Reinforcement Learning in Board Games: A Min-Max Approach</h3>\\n                    <p>An analysis of implementing reinforcement learning algorithms for board game AI, with practical examples from the Quixo game implementation and performance optimization techniques.</p>\\n                    <div class=\"article-meta\">\\n                        <span class=\"article-date\">Published: January 22, 2024</span>\\n                    </div>\\n                    <a href=\"articles/reinforcement-learning-games-article.html\" class=\"article-link\">Read Full Article</a>\\n                </div>\\n            </div>\\n        </div>\\n    </div>\\n</section>\\n<!-- Education Section -->\\n<section id=\"education\" class=\"education-section\">\\n    <div id=\"particles-js-education\"></div>\\n    <div class=\"container\">\\n        <h2>Education</h2>\\n        <div class=\"education-timeline\">\\n            <div class=\"education-item\">\\n                <div class=\"education-year\">2022 - Present</div>\\n                <div class=\"education-content\">\\n                    <h3>Master\\'s Degree in Data Science and Engineering</h3>\\n                    <h4>Politecnico di Torino, Italy</h4>\\n                    <p>Specializing in Machine Learning, Natural Language Processing, and Software Engineering. Currently pursuing advanced studies in Large Language Models and Computational Intelligence.</p>\\n                    <ul class=\"education-details\">\\n                        <li>Focus: Machine Learning, NLP, Deep Learning</li>\\n                        <li>Research: Federated Learning, Computer Vision</li>\\n                        <li>Languages: Python, R, SQL, JavaScript</li>\\n                    </ul>\\n                </div>\\n            </div>\\n            \\n            <div class=\"education-item\">\\n                <div class=\"education-year\">2018 - 2022</div>\\n                <div class=\"education-content\">\\n                    <h3>Bachelor\\'s Degree in Electrical and Telecommunication Engineering</h3>\\n                    <h4>Top University in Home Country</h4>\\n                    <p>Graduated in the top 5 of the class with a GPA of 3.54/4.0. Focused on signal processing, telecommunications, and embedded systems.</p>\\n                    <ul class=\"education-details\">\\n                        <li>GPA: 3.54/4.0 (Top 5% of class)</li>\\n                        <li>Focus: Signal Processing, Embedded Systems</li>\\n                        <li>Languages: C++, MATLAB, Verilog</li>\\n                    </ul>\\n                </div>\\n            </div>\\n        </div>\\n    </div>\\n</section>\\n\\n<!-- Skills Section -->\\n<section id=\"skills\" class=\"skills-section\">\\n    <div id=\"particles-js-skills\"></div>\\n    <div class=\"container\">\\n        <h2>Skills</h2>\\n        <div class=\"skills-grid\">\\n            <div class=\"skill-category\">\\n                <h3>Programming Languages</h3>\\n                <div class=\"skill-items\">\\n                    <div class=\"skill-item\">\\n                        <span class=\"skill-name\">Python</span>\\n                        <div class=\"skill-bar\">\\n                            <div class=\"skill-progress\" style=\"width: 95%\"></div>\\n                        </div>\\n                    </div>\\n                    <div class=\"skill-item\">\\n                        <span class=\"skill-name\">R</span>\\n                        <div class=\"skill-bar\">\\n                            <div class=\"skill-progress\" style=\"width: 20%\"></div>\\n                        </div>\\n                    </div>\\n                    <div class=\"skill-item\">\\n                        <span class=\"skill-name\">SQL</span>\\n                        <div class=\"skill-bar\">\\n                            <div class=\"skill-progress\" style=\"width: 70%\"></div>\\n                        </div>\\n                    </div>\\n                    <div class=\"skill-item\">\\n                        <span class=\"skill-name\">JavaScript</span>\\n                        <div class=\"skill-bar\">\\n                            <div class=\"skill-progress\" style=\"width: 40%\"></div>\\n                        </div>\\n                    </div>\\n                    <div class=\"skill-item\">\\n                        <span class=\"skill-name\">C++</span>\\n                        <div class=\"skill-bar\">\\n                            <div class=\"skill-progress\" style=\"width: 80%\"></div>\\n                        </div>\\n                    </div>\\n                </div>\\n            </div>\\n            \\n            <div class=\"skill-category\">\\n                <h3>Machine Learning & AI</h3>\\n                <div class=\"skill-items\">\\n                    <div class=\"skill-item\">\\n                        <span class=\"skill-name\">Deep Learning</span>\\n                        <div class=\"skill-bar\">\\n                            <div class=\"skill-progress\" style=\"width: 90%\"></div>\\n                        </div>\\n                    </div>\\n                    <div class=\"skill-item\">\\n                        <span class=\"skill-name\">NLP</span>\\n                        <div class=\"skill-bar\">\\n                            <div class=\"skill-progress\" style=\"width: 90%\"></div>\\n                        </div>\\n                    </div>\\n                    <div class=\"skill-item\">\\n                        <span class=\"skill-name\">Computer Vision</span>\\n                        <div class=\"skill-bar\">\\n                            <div class=\"skill-progress\" style=\"width: 70%\"></div>\\n                        </div>\\n                    </div>\\n                    <div class=\"skill-item\">\\n                        <span class=\"skill-name\">Reinforcement Learning</span>\\n                        <div class=\"skill-bar\">\\n                            <div class=\"skill-progress\" style=\"width: 75%\"></div>\\n                        </div>\\n                    </div>\\n                    <div class=\"skill-item\">\\n                        <span class=\"skill-name\">Federated Learning</span>\\n                        <div class=\"skill-bar\">\\n                            <div class=\"skill-progress\" style=\"width: 85%\"></div>\\n                        </div>\\n                    </div>\\n                </div>\\n            </div>\\n            \\n            <div class=\"skill-category\">\\n                <h3>Frameworks & Tools</h3>\\n                <div class=\"skill-items\">\\n                    <div class=\"skill-item\">\\n                        <span class=\"skill-name\">PyTorch</span>\\n                        <div class=\"skill-bar\">\\n                            <div class=\"skill-progress\" style=\"width: 90%\"></div>\\n                        </div>\\n                    </div>\\n                    <div class=\"skill-item\">\\n                        <span class=\"skill-name\">TensorFlow</span>\\n                        <div class=\"skill-bar\">\\n                            <div class=\"skill-progress\" style=\"width: 85%\"></div>\\n                        </div>\\n                    </div>\\n                    <div class=\"skill-item\">\\n                        <span class=\"skill-name\">Scikit-learn</span>\\n                        <div class=\"skill-bar\">\\n                            <div class=\"skill-progress\" style=\"width: 95%\"></div>\\n                        </div>\\n                    </div>\\n                    <div class=\"skill-item\">\\n                        <span class=\"skill-name\">Pandas & NumPy</span>\\n                        <div class=\"skill-bar\">\\n                            <div class=\"skill-progress\" style=\"width: 95%\"></div>\\n                        </div>\\n                    </div>\\n                    <div class=\"skill-item\">\\n                        <span class=\"skill-name\">Git & GitHub</span>\\n                        <div class=\"skill-bar\">\\n                            <div class=\"skill-progress\" style=\"width: 85%\"></div>\\n                        </div>\\n                    </div>\\n                </div>\\n            </div>\\n        </div>\\n    </div>\\n</section>\\n\\n<!-- Contact Section -->\\n<section id=\"contact\" class=\"contact-section\">\\n    <div id=\"particles-js-contact\"></div>\\n    <div class=\"container\">\\n        <h2>Get In Touch</h2>\\n        <div class=\"contact-content\">\\n            <div class=\"contact-info\">\\n                <h3>Let\\'s Connect</h3>\\n                <p>I\\'m always open to discussing new opportunities, collaborations, or just having a chat about data science and technology. Feel free to reach out!</p>\\n                \\n                <div class=\"contact-details\">\\n                    <div class=\"contact-item\">\\n                        <i class=\"fas fa-envelope\"></i>\\n                        <div>\\n                            <h4>Email</h4>\\n                            <p>hosseinekhodadadi@gmail.com</p>\\n                        </div>\\n                    </div>\\n                    \\n                    <div class=\"contact-item\">\\n                        <i class=\"fas fa-map-marker-alt\"></i>\\n                        <div>\\n                            <h4>Location</h4>\\n                            <p>Torino, Italy</p>\\n                        </div>\\n                    </div>\\n                    \\n                    <div class=\"contact-item\">\\n                        <i class=\"fas fa-university\"></i>\\n                        <div>\\n                            <h4>University</h4>\\n                            <p>Politecnico di Torino</p>\\n                        </div>\\n                    </div>\\n                </div>\\n                \\n                <div class=\"social-links\">\\n                    <a href=\"https://github.com/HOSSENkhodadadi\" target=\"_blank\" class=\"social-link\">\\n                        <i class=\"fab fa-github\"></i>\\n                        <span>GitHub</span>\\n                    </a>\\n                    <a href=\"https://www.linkedin.com/in/hosseinekhodadadi/\" target=\"_blank\" class=\"social-link\">\\n                        <i class=\"fab fa-linkedin\"></i>\\n                        <span>LinkedIn</span>\\n                    </a>\\n                    <a href=\"https://x.com/HoseineKhodadad\" target=\"_blank\" class=\"social-link\">\\n                        <i class=\"fab fa-twitter\"></i>\\n                        <span>X</span>\\n                    </a>\\n                    <a href=\"https://drive.google.com/file/d/1gSjuIKMXe5gDSwhGrFTdDtgqDAC6iuYv/view?usp=drive_link\" target=\"_blank\" class=\"social-link\">\\n                        <i class=\"fas fa-file-pdf\"></i>\\n                        <span>CV</span>\\n                    </a>\\n                </div>\\n            </div>\\n            \\n            <div class=\"contact-form\">\\n                <h3>Send me a message</h3>\\n                <form id=\"contactForm\">\\n                    <div class=\"form-group\">\\n                        <input type=\"text\" id=\"name\" name=\"name\" placeholder=\"Your Name\" required>\\n                    </div>\\n                    <div class=\"form-group\">\\n                        <input type=\"email\" id=\"email\" name=\"email\" placeholder=\"Your Email\" required>\\n                    </div>\\n                    <div class=\"form-group\">\\n                        <input type=\"text\" id=\"subject\" name=\"subject\" placeholder=\"Subject\" required>\\n                    </div>\\n                    <div class=\"form-group\">\\n                        <textarea id=\"message\" name=\"message\" placeholder=\"Your Message\" rows=\"5\" required></textarea>\\n                    </div>\\n                    <button type=\"submit\" class=\"submit-btn\">Send Message</button>\\n                </form>\\n            </div>\\n        </div>\\n    </div>\\n</section>\\n</body>\\n</html>\\n'"
            ],
            "application/vnd.google.colaboratory.intrinsic+json": {
              "type": "string"
            }
          },
          "metadata": {},
          "execution_count": 2
        }
      ]
    },
    {
      "cell_type": "code",
      "source": [
        "import bs4\n",
        "structure = bs4.BeautifulSoup(req.text)\n",
        "structure.select('title')# selects the tags e.g, tag = title\n",
        "head = structure.select('header')\n",
        "h = head[0]\n",
        "type(head[0])\n",
        "h.getText()\n",
        "h.get_text()\n",
        "# h.index('\\n')\n",
        "h.find_next()\n"
      ],
      "metadata": {
        "colab": {
          "base_uri": "https://localhost:8080/"
        },
        "id": "7QbaeqR5VDXc",
        "outputId": "5e48ecca-d083-405a-de8e-de46b28e5888"
      },
      "execution_count": null,
      "outputs": [
        {
          "output_type": "execute_result",
          "data": {
            "text/plain": [
              "<div class=\"hamburger-menu\" id=\"hamburger-menu\">\n",
              "<div class=\"hamburger-line\"></div>\n",
              "<div class=\"hamburger-line\"></div>\n",
              "<div class=\"hamburger-line\"></div>\n",
              "</div>"
            ]
          },
          "metadata": {},
          "execution_count": 3
        }
      ]
    },
    {
      "cell_type": "code",
      "source": [
        "lis = structure.select('li')\n",
        "print(len(lis))\n",
        "for li in lis:\n",
        "    print(li.getText())"
      ],
      "metadata": {
        "colab": {
          "base_uri": "https://localhost:8080/"
        },
        "id": "1jUY39OJsTul",
        "outputId": "c17aa6a0-fc01-45e3-e122-818f15d47e72"
      },
      "execution_count": null,
      "outputs": [
        {
          "output_type": "stream",
          "name": "stdout",
          "text": [
            "15\n",
            "Home\n",
            "About\n",
            "Education\n",
            "Projects\n",
            "Articles\n",
            "Skills\n",
            "Contact\n",
            "Email: hosseinekhodadadi@gmail.com\n",
            "Location: Torino, Italy\n",
            "Focus: Machine Learning, NLP, Deep Learning\n",
            "Research: Federated Learning, Computer Vision\n",
            "Languages: Python, R, SQL, JavaScript\n",
            "GPA: 3.54/4.0 (Top 5% of class)\n",
            "Focus: Signal Processing, Embedded Systems\n",
            "Languages: C++, MATLAB, Verilog\n"
          ]
        }
      ]
    },
    {
      "cell_type": "code",
      "source": [
        "for item in structure.select('li'):\n",
        "    print(item.getText())"
      ],
      "metadata": {
        "colab": {
          "base_uri": "https://localhost:8080/"
        },
        "id": "Xq9bXLRDHVEv",
        "outputId": "58e99d1a-aa87-49f3-f002-e326f6a5f35c"
      },
      "execution_count": null,
      "outputs": [
        {
          "output_type": "stream",
          "name": "stdout",
          "text": [
            "Home\n",
            "About\n",
            "Education\n",
            "Projects\n",
            "Articles\n",
            "Skills\n",
            "Contact\n",
            "Email: hosseinekhodadadi@gmail.com\n",
            "Location: Torino, Italy\n",
            "Focus: Machine Learning, NLP, Deep Learning\n",
            "Research: Federated Learning, Computer Vision\n",
            "Languages: Python, R, SQL, JavaScript\n",
            "GPA: 3.54/4.0 (Top 5% of class)\n",
            "Focus: Signal Processing, Embedded Systems\n",
            "Languages: C++, MATLAB, Verilog\n"
          ]
        }
      ]
    },
    {
      "cell_type": "code",
      "source": [
        "structure = bs4.BeautifulSoup(req.text)\n",
        "# structure.select('#about')\n",
        "# structure.select('.container')\n",
        "structure.select('div>span')"
      ],
      "metadata": {
        "colab": {
          "base_uri": "https://localhost:8080/"
        },
        "id": "yNqeB0ZuJFIj",
        "outputId": "56a9c237-816b-4b26-e4aa-7a803bf23323"
      },
      "execution_count": null,
      "outputs": [
        {
          "output_type": "execute_result",
          "data": {
            "text/plain": [
              "[<span class=\"article-date\">Published: March 15, 2024</span>,\n",
              " <span class=\"article-date\">Published: February 28, 2024</span>,\n",
              " <span class=\"article-date\">Published: February 10, 2024</span>,\n",
              " <span class=\"article-date\">Published: January 22, 2024</span>,\n",
              " <span class=\"skill-name\">Python</span>,\n",
              " <span class=\"skill-name\">R</span>,\n",
              " <span class=\"skill-name\">SQL</span>,\n",
              " <span class=\"skill-name\">JavaScript</span>,\n",
              " <span class=\"skill-name\">C++</span>,\n",
              " <span class=\"skill-name\">Deep Learning</span>,\n",
              " <span class=\"skill-name\">NLP</span>,\n",
              " <span class=\"skill-name\">Computer Vision</span>,\n",
              " <span class=\"skill-name\">Reinforcement Learning</span>,\n",
              " <span class=\"skill-name\">Federated Learning</span>,\n",
              " <span class=\"skill-name\">PyTorch</span>,\n",
              " <span class=\"skill-name\">TensorFlow</span>,\n",
              " <span class=\"skill-name\">Scikit-learn</span>,\n",
              " <span class=\"skill-name\">Pandas &amp; NumPy</span>,\n",
              " <span class=\"skill-name\">Git &amp; GitHub</span>]"
            ]
          },
          "metadata": {},
          "execution_count": 17
        }
      ]
    },
    {
      "cell_type": "code",
      "source": [
        "structure.find_all(id = 'about')\n",
        "structure.find_all(class_ = 'container')"
      ],
      "metadata": {
        "colab": {
          "base_uri": "https://localhost:8080/"
        },
        "id": "dPCBdsvtLxqQ",
        "outputId": "5e791c25-3374-4df0-80a6-366c87c19699"
      },
      "execution_count": null,
      "outputs": [
        {
          "output_type": "execute_result",
          "data": {
            "text/plain": [
              "[<div class=\"container\">\n",
              " <div class=\"about-content\">\n",
              " <div class=\"about-image\">\n",
              " <img alt=\"Your Name\" src=\"images/me.jpeg\"/>\n",
              " </div>\n",
              " <div class=\"about-info\">\n",
              " <h2>About Me</h2>\n",
              " <p>Hello! I'm Hossein Khodadadi.I'm a Master's student in Data Science and Engineering at Politecnico di Torino, passionate about Machine Learning, NLP, and Software Engineering. Lately, I've been diving deep into Large Language Models and Computational Intelligence. I started my journey with a Bachelor's in Electrical and Telecommunication Engineering, ranking in the top 5 of my class (GPA: 3.54/4) at one of top universities in my home country. I'm always eager to learn, grow, and tackle new challenges.</p>\n",
              " <p>Feel free to explore my projects in Github to know more about my work. I'm always open to discussing new opportunities and collaborations.</p>\n",
              " <ul class=\"contact-info\">\n",
              " <li><strong>Email:</strong> hosseinekhodadadi@gmail.com</li>\n",
              " <li><strong>Location:</strong> Torino, Italy</li>\n",
              " </ul>\n",
              " <a class=\"btn-cv\" download=\"\" href=\"https://drive.google.com/file/d/1gSjuIKMXe5gDSwhGrFTdDtgqDAC6iuYv/view?usp=sharing\">Download CV</a>\n",
              " <a class=\"btn-cv\" download=\"\" href=\"https://cal.com/hossein-khodadadi/30min?overlayCalendar=true\">Let's meet:)</a>\n",
              " </div>\n",
              " </div>\n",
              " </div>,\n",
              " <div class=\"container\">\n",
              " <h2>Projects</h2>\n",
              " <div class=\"projects-grid\">\n",
              " <!-- Project 2 -->\n",
              " <div class=\"project-card\">\n",
              " <img alt=\"Project 2\" src=\"images/project_images/proj_2_AlexNet.png\"/>\n",
              " <div class=\"project-info\">\n",
              " <h3>Caltech Classification and Fine Tuning on AlexNet (Classification, Deep Learning)</h3>\n",
              " <p>AlexNet model was used to predict in low data regimes and a large number of classes. different fine-tuning techniques were used to improve the accuracy. Tech: Weights&amp;Biasses, Pytorch</p>\n",
              " <a class=\"project-link\" href=\"https://github.com/HOSSENkhodadadi/Projects/tree/main/caltech_classification_fine_tuning_alexNet\" target=\"_blank\">View on GitHub</a>\n",
              " </div>\n",
              " </div>\n",
              " <!-- Project 1 -->\n",
              " <div class=\"project-card\">\n",
              " <img alt=\"Project 1\" src=\"images/project_images/proj1_Agent_2.jpg\"/>\n",
              " <div class=\"project-info\">\n",
              " <h3>Reinforcement Learning on Game Agent Training for Quixo Board Game (RL, Deep RL)</h3>\n",
              " <p>Min-Max algorithm was implemented to play Quixo game with 95% win rate against a random player. Tech: Python, Pytorch</p>\n",
              " <a class=\"project-link\" href=\"https://github.com/HOSSENkhodadadi/Quixo_Game_Player_Min_Max\" target=\"_blank\">View on GitHub</a>\n",
              " </div>\n",
              " </div>\n",
              " <!-- Project 3 -->\n",
              " <div class=\"project-card\">\n",
              " <img alt=\"Project 2\" src=\"images/project_images/proj3_FL.webp\"/>\n",
              " <div class=\"project-info\">\n",
              " <h3>A Novel Approach for Improving Generalization in Federated Learning Through Corrective Gradient Weights</h3>\n",
              " <p>he Federated Learning paradigm was implemented to train a central Neural Network Model without intruding the clients privacy, the model improved by adding the Corrective Gradient Weights . Tech: Python, PyTorch</p>\n",
              " <a class=\"project-link\" href=\"https://github.com/HOSSENkhodadadi/Projects/tree/main/A%20Novel%20Approach%20for%20Improving%20Generalization%20in%20Federated\" target=\"_blank\">View on GitHub</a>\n",
              " </div>\n",
              " </div>\n",
              " <!-- Project 3 -->\n",
              " <div class=\"project-card\">\n",
              " <img alt=\"Project 2\" src=\"images/project_images/proj4_mfcc.png\"/>\n",
              " <div class=\"project-info\">\n",
              " <h3>Audio Intent Detection Using MFCC</h3>\n",
              " <p>A deep learning model was designed to classify audio files using MFCC method. Tech: Python, TensorFlow, Keras.</p>\n",
              " <a class=\"project-link\" href=\"https://github.com/HOSSENkhodadadi/Projects/tree/main/Intent%20Detection%20on%20the%20Fluent%20Speech%20Commands\" target=\"_blank\">View on GitHub</a>\n",
              " </div>\n",
              " </div>\n",
              " <!-- More project cards can be added similarly -->\n",
              " </div>\n",
              " </div>,\n",
              " <div class=\"container\">\n",
              " <h2>Articles</h2>\n",
              " <div class=\"articles-grid\">\n",
              " <!-- Article 1 -->\n",
              " <div class=\"article-card\">\n",
              " <img alt=\"Federated Learning Article\" src=\"images/project_images/proj3_FL.webp\"/>\n",
              " <div class=\"article-info\">\n",
              " <h3>Improving Generalization in Federated Learning Through Corrective Gradient Weights</h3>\n",
              " <p>An in-depth exploration of how corrective gradient weights can enhance model generalization in federated learning environments, addressing privacy-preserving machine learning challenges.</p>\n",
              " <div class=\"article-meta\">\n",
              " <span class=\"article-date\">Published: March 15, 2024</span>\n",
              " </div>\n",
              " <a class=\"article-link\" href=\"articles/federated-learning-article.html\">Read Full Article</a>\n",
              " </div>\n",
              " </div>\n",
              " <!-- Article 2 -->\n",
              " <div class=\"article-card\">\n",
              " <img alt=\"Deep Learning Article\" src=\"images/project_images/proj_2_AlexNet.png\"/>\n",
              " <div class=\"article-info\">\n",
              " <h3>Fine-Tuning Strategies for Deep Learning Models in Low-Data Regimes</h3>\n",
              " <p>A comprehensive guide to effective fine-tuning techniques for neural networks when working with limited datasets, focusing on transfer learning and data augmentation strategies.</p>\n",
              " <div class=\"article-meta\">\n",
              " <span class=\"article-date\">Published: February 28, 2024</span>\n",
              " </div>\n",
              " <a class=\"article-link\" href=\"articles/deep-learning-finetuning-article.html\">Read Full Article</a>\n",
              " </div>\n",
              " </div>\n",
              " <!-- Article 3 -->\n",
              " <div class=\"article-card\">\n",
              " <img alt=\"Audio Processing Article\" src=\"images/project_images/proj4_mfcc.png\"/>\n",
              " <div class=\"article-info\">\n",
              " <h3>Audio Intent Detection Using MFCC: A Deep Learning Approach</h3>\n",
              " <p>Exploring the application of Mel-Frequency Cepstral Coefficients (MFCC) in audio processing for intent detection, covering feature extraction and neural network architectures.</p>\n",
              " <div class=\"article-meta\">\n",
              " <span class=\"article-date\">Published: February 10, 2024</span>\n",
              " </div>\n",
              " <a class=\"article-link\" href=\"articles/audio-intent-detection-article.html\">Read Full Article</a>\n",
              " </div>\n",
              " </div>\n",
              " <!-- Article 4 -->\n",
              " <div class=\"article-card\">\n",
              " <img alt=\"Reinforcement Learning Article\" src=\"images/project_images/proj1_Agent_2.jpg\"/>\n",
              " <div class=\"article-info\">\n",
              " <h3>Reinforcement Learning in Board Games: A Min-Max Approach</h3>\n",
              " <p>An analysis of implementing reinforcement learning algorithms for board game AI, with practical examples from the Quixo game implementation and performance optimization techniques.</p>\n",
              " <div class=\"article-meta\">\n",
              " <span class=\"article-date\">Published: January 22, 2024</span>\n",
              " </div>\n",
              " <a class=\"article-link\" href=\"articles/reinforcement-learning-games-article.html\">Read Full Article</a>\n",
              " </div>\n",
              " </div>\n",
              " </div>\n",
              " </div>,\n",
              " <div class=\"container\">\n",
              " <h2>Education</h2>\n",
              " <div class=\"education-timeline\">\n",
              " <div class=\"education-item\">\n",
              " <div class=\"education-year\">2022 - Present</div>\n",
              " <div class=\"education-content\">\n",
              " <h3>Master's Degree in Data Science and Engineering</h3>\n",
              " <h4>Politecnico di Torino, Italy</h4>\n",
              " <p>Specializing in Machine Learning, Natural Language Processing, and Software Engineering. Currently pursuing advanced studies in Large Language Models and Computational Intelligence.</p>\n",
              " <ul class=\"education-details\">\n",
              " <li>Focus: Machine Learning, NLP, Deep Learning</li>\n",
              " <li>Research: Federated Learning, Computer Vision</li>\n",
              " <li>Languages: Python, R, SQL, JavaScript</li>\n",
              " </ul>\n",
              " </div>\n",
              " </div>\n",
              " <div class=\"education-item\">\n",
              " <div class=\"education-year\">2018 - 2022</div>\n",
              " <div class=\"education-content\">\n",
              " <h3>Bachelor's Degree in Electrical and Telecommunication Engineering</h3>\n",
              " <h4>Top University in Home Country</h4>\n",
              " <p>Graduated in the top 5 of the class with a GPA of 3.54/4.0. Focused on signal processing, telecommunications, and embedded systems.</p>\n",
              " <ul class=\"education-details\">\n",
              " <li>GPA: 3.54/4.0 (Top 5% of class)</li>\n",
              " <li>Focus: Signal Processing, Embedded Systems</li>\n",
              " <li>Languages: C++, MATLAB, Verilog</li>\n",
              " </ul>\n",
              " </div>\n",
              " </div>\n",
              " </div>\n",
              " </div>,\n",
              " <div class=\"container\">\n",
              " <h2>Skills</h2>\n",
              " <div class=\"skills-grid\">\n",
              " <div class=\"skill-category\">\n",
              " <h3>Programming Languages</h3>\n",
              " <div class=\"skill-items\">\n",
              " <div class=\"skill-item\">\n",
              " <span class=\"skill-name\">Python</span>\n",
              " <div class=\"skill-bar\">\n",
              " <div class=\"skill-progress\" style=\"width: 95%\"></div>\n",
              " </div>\n",
              " </div>\n",
              " <div class=\"skill-item\">\n",
              " <span class=\"skill-name\">R</span>\n",
              " <div class=\"skill-bar\">\n",
              " <div class=\"skill-progress\" style=\"width: 20%\"></div>\n",
              " </div>\n",
              " </div>\n",
              " <div class=\"skill-item\">\n",
              " <span class=\"skill-name\">SQL</span>\n",
              " <div class=\"skill-bar\">\n",
              " <div class=\"skill-progress\" style=\"width: 70%\"></div>\n",
              " </div>\n",
              " </div>\n",
              " <div class=\"skill-item\">\n",
              " <span class=\"skill-name\">JavaScript</span>\n",
              " <div class=\"skill-bar\">\n",
              " <div class=\"skill-progress\" style=\"width: 40%\"></div>\n",
              " </div>\n",
              " </div>\n",
              " <div class=\"skill-item\">\n",
              " <span class=\"skill-name\">C++</span>\n",
              " <div class=\"skill-bar\">\n",
              " <div class=\"skill-progress\" style=\"width: 80%\"></div>\n",
              " </div>\n",
              " </div>\n",
              " </div>\n",
              " </div>\n",
              " <div class=\"skill-category\">\n",
              " <h3>Machine Learning &amp; AI</h3>\n",
              " <div class=\"skill-items\">\n",
              " <div class=\"skill-item\">\n",
              " <span class=\"skill-name\">Deep Learning</span>\n",
              " <div class=\"skill-bar\">\n",
              " <div class=\"skill-progress\" style=\"width: 90%\"></div>\n",
              " </div>\n",
              " </div>\n",
              " <div class=\"skill-item\">\n",
              " <span class=\"skill-name\">NLP</span>\n",
              " <div class=\"skill-bar\">\n",
              " <div class=\"skill-progress\" style=\"width: 90%\"></div>\n",
              " </div>\n",
              " </div>\n",
              " <div class=\"skill-item\">\n",
              " <span class=\"skill-name\">Computer Vision</span>\n",
              " <div class=\"skill-bar\">\n",
              " <div class=\"skill-progress\" style=\"width: 70%\"></div>\n",
              " </div>\n",
              " </div>\n",
              " <div class=\"skill-item\">\n",
              " <span class=\"skill-name\">Reinforcement Learning</span>\n",
              " <div class=\"skill-bar\">\n",
              " <div class=\"skill-progress\" style=\"width: 75%\"></div>\n",
              " </div>\n",
              " </div>\n",
              " <div class=\"skill-item\">\n",
              " <span class=\"skill-name\">Federated Learning</span>\n",
              " <div class=\"skill-bar\">\n",
              " <div class=\"skill-progress\" style=\"width: 85%\"></div>\n",
              " </div>\n",
              " </div>\n",
              " </div>\n",
              " </div>\n",
              " <div class=\"skill-category\">\n",
              " <h3>Frameworks &amp; Tools</h3>\n",
              " <div class=\"skill-items\">\n",
              " <div class=\"skill-item\">\n",
              " <span class=\"skill-name\">PyTorch</span>\n",
              " <div class=\"skill-bar\">\n",
              " <div class=\"skill-progress\" style=\"width: 90%\"></div>\n",
              " </div>\n",
              " </div>\n",
              " <div class=\"skill-item\">\n",
              " <span class=\"skill-name\">TensorFlow</span>\n",
              " <div class=\"skill-bar\">\n",
              " <div class=\"skill-progress\" style=\"width: 85%\"></div>\n",
              " </div>\n",
              " </div>\n",
              " <div class=\"skill-item\">\n",
              " <span class=\"skill-name\">Scikit-learn</span>\n",
              " <div class=\"skill-bar\">\n",
              " <div class=\"skill-progress\" style=\"width: 95%\"></div>\n",
              " </div>\n",
              " </div>\n",
              " <div class=\"skill-item\">\n",
              " <span class=\"skill-name\">Pandas &amp; NumPy</span>\n",
              " <div class=\"skill-bar\">\n",
              " <div class=\"skill-progress\" style=\"width: 95%\"></div>\n",
              " </div>\n",
              " </div>\n",
              " <div class=\"skill-item\">\n",
              " <span class=\"skill-name\">Git &amp; GitHub</span>\n",
              " <div class=\"skill-bar\">\n",
              " <div class=\"skill-progress\" style=\"width: 85%\"></div>\n",
              " </div>\n",
              " </div>\n",
              " </div>\n",
              " </div>\n",
              " </div>\n",
              " </div>,\n",
              " <div class=\"container\">\n",
              " <h2>Get In Touch</h2>\n",
              " <div class=\"contact-content\">\n",
              " <div class=\"contact-info\">\n",
              " <h3>Let's Connect</h3>\n",
              " <p>I'm always open to discussing new opportunities, collaborations, or just having a chat about data science and technology. Feel free to reach out!</p>\n",
              " <div class=\"contact-details\">\n",
              " <div class=\"contact-item\">\n",
              " <i class=\"fas fa-envelope\"></i>\n",
              " <div>\n",
              " <h4>Email</h4>\n",
              " <p>hosseinekhodadadi@gmail.com</p>\n",
              " </div>\n",
              " </div>\n",
              " <div class=\"contact-item\">\n",
              " <i class=\"fas fa-map-marker-alt\"></i>\n",
              " <div>\n",
              " <h4>Location</h4>\n",
              " <p>Torino, Italy</p>\n",
              " </div>\n",
              " </div>\n",
              " <div class=\"contact-item\">\n",
              " <i class=\"fas fa-university\"></i>\n",
              " <div>\n",
              " <h4>University</h4>\n",
              " <p>Politecnico di Torino</p>\n",
              " </div>\n",
              " </div>\n",
              " </div>\n",
              " <div class=\"social-links\">\n",
              " <a class=\"social-link\" href=\"https://github.com/HOSSENkhodadadi\" target=\"_blank\">\n",
              " <i class=\"fab fa-github\"></i>\n",
              " <span>GitHub</span>\n",
              " </a>\n",
              " <a class=\"social-link\" href=\"https://www.linkedin.com/in/hosseinekhodadadi/\" target=\"_blank\">\n",
              " <i class=\"fab fa-linkedin\"></i>\n",
              " <span>LinkedIn</span>\n",
              " </a>\n",
              " <a class=\"social-link\" href=\"https://x.com/HoseineKhodadad\" target=\"_blank\">\n",
              " <i class=\"fab fa-twitter\"></i>\n",
              " <span>X</span>\n",
              " </a>\n",
              " <a class=\"social-link\" href=\"https://drive.google.com/file/d/1gSjuIKMXe5gDSwhGrFTdDtgqDAC6iuYv/view?usp=drive_link\" target=\"_blank\">\n",
              " <i class=\"fas fa-file-pdf\"></i>\n",
              " <span>CV</span>\n",
              " </a>\n",
              " </div>\n",
              " </div>\n",
              " <div class=\"contact-form\">\n",
              " <h3>Send me a message</h3>\n",
              " <form id=\"contactForm\">\n",
              " <div class=\"form-group\">\n",
              " <input id=\"name\" name=\"name\" placeholder=\"Your Name\" required=\"\" type=\"text\"/>\n",
              " </div>\n",
              " <div class=\"form-group\">\n",
              " <input id=\"email\" name=\"email\" placeholder=\"Your Email\" required=\"\" type=\"email\"/>\n",
              " </div>\n",
              " <div class=\"form-group\">\n",
              " <input id=\"subject\" name=\"subject\" placeholder=\"Subject\" required=\"\" type=\"text\"/>\n",
              " </div>\n",
              " <div class=\"form-group\">\n",
              " <textarea id=\"message\" name=\"message\" placeholder=\"Your Message\" required=\"\" rows=\"5\"></textarea>\n",
              " </div>\n",
              " <button class=\"submit-btn\" type=\"submit\">Send Message</button>\n",
              " </form>\n",
              " </div>\n",
              " </div>\n",
              " </div>]"
            ]
          },
          "metadata": {},
          "execution_count": 19
        }
      ]
    },
    {
      "cell_type": "code",
      "source": [
        "structure.select('#about > div.container > div > div.about-image')"
      ],
      "metadata": {
        "colab": {
          "base_uri": "https://localhost:8080/"
        },
        "id": "vmsytorGQW7F",
        "outputId": "55b8f54d-ab49-4502-8768-ec56ac7a7e83"
      },
      "execution_count": null,
      "outputs": [
        {
          "output_type": "execute_result",
          "data": {
            "text/plain": [
              "[<div class=\"about-image\">\n",
              " <img alt=\"Your Name\" src=\"images/me.jpeg\"/>\n",
              " </div>]"
            ]
          },
          "metadata": {},
          "execution_count": 20
        }
      ]
    },
    {
      "cell_type": "code",
      "source": [
        "# you might use CSS selector plugin for multiple selection\n",
        "!pip install selenium"
      ],
      "metadata": {
        "colab": {
          "base_uri": "https://localhost:8080/"
        },
        "id": "y48bC4mjRn0J",
        "outputId": "59c09641-f7d1-45ae-dfb7-8a6e18acbd14"
      },
      "execution_count": null,
      "outputs": [
        {
          "output_type": "stream",
          "name": "stdout",
          "text": [
            "Requirement already satisfied: selenium in /usr/local/lib/python3.12/dist-packages (4.35.0)\n",
            "Requirement already satisfied: urllib3<3.0,>=2.5.0 in /usr/local/lib/python3.12/dist-packages (from urllib3[socks]<3.0,>=2.5.0->selenium) (2.5.0)\n",
            "Requirement already satisfied: trio~=0.30.0 in /usr/local/lib/python3.12/dist-packages (from selenium) (0.30.0)\n",
            "Requirement already satisfied: trio-websocket~=0.12.2 in /usr/local/lib/python3.12/dist-packages (from selenium) (0.12.2)\n",
            "Requirement already satisfied: certifi>=2025.6.15 in /usr/local/lib/python3.12/dist-packages (from selenium) (2025.8.3)\n",
            "Requirement already satisfied: typing_extensions~=4.14.0 in /usr/local/lib/python3.12/dist-packages (from selenium) (4.14.1)\n",
            "Requirement already satisfied: websocket-client~=1.8.0 in /usr/local/lib/python3.12/dist-packages (from selenium) (1.8.0)\n",
            "Requirement already satisfied: attrs>=23.2.0 in /usr/local/lib/python3.12/dist-packages (from trio~=0.30.0->selenium) (25.3.0)\n",
            "Requirement already satisfied: sortedcontainers in /usr/local/lib/python3.12/dist-packages (from trio~=0.30.0->selenium) (2.4.0)\n",
            "Requirement already satisfied: idna in /usr/local/lib/python3.12/dist-packages (from trio~=0.30.0->selenium) (3.10)\n",
            "Requirement already satisfied: outcome in /usr/local/lib/python3.12/dist-packages (from trio~=0.30.0->selenium) (1.3.0.post0)\n",
            "Requirement already satisfied: sniffio>=1.3.0 in /usr/local/lib/python3.12/dist-packages (from trio~=0.30.0->selenium) (1.3.1)\n",
            "Requirement already satisfied: wsproto>=0.14 in /usr/local/lib/python3.12/dist-packages (from trio-websocket~=0.12.2->selenium) (1.2.0)\n",
            "Requirement already satisfied: pysocks!=1.5.7,<2.0,>=1.5.6 in /usr/local/lib/python3.12/dist-packages (from urllib3[socks]<3.0,>=2.5.0->selenium) (1.7.1)\n",
            "Requirement already satisfied: h11<1,>=0.9.0 in /usr/local/lib/python3.12/dist-packages (from wsproto>=0.14->trio-websocket~=0.12.2->selenium) (0.16.0)\n"
          ]
        }
      ]
    },
    {
      "cell_type": "code",
      "source": [
        "from selenium import webdriver\n",
        "from selenium.webdriver.common.keys import Keys\n",
        "from selenium.webdriver.common.by import By\n",
        "\n",
        "driver = webdriver.Chrome()\n",
        "driver.get(\"http://www.python.org\")\n",
        "assert \"Python\" in driver.title\n",
        "elem = driver.find_element(By.NAME, \"q\")\n",
        "elem.clear()\n",
        "elem.send_keys(\"pycon\")\n",
        "elem.send_keys(Keys.RETURN)\n",
        "assert \"No results found.\" not in driver.page_source\n",
        "driver.close()"
      ],
      "metadata": {
        "colab": {
          "base_uri": "https://localhost:8080/",
          "height": 722
        },
        "id": "gHHpUbk6Yqck",
        "outputId": "4f0c3e7a-bef1-4c2c-d4cc-3ab5e70c8081"
      },
      "execution_count": null,
      "outputs": [
        {
          "output_type": "error",
          "ename": "SessionNotCreatedException",
          "evalue": "Message: session not created: probably user data directory is already in use, please specify a unique value for --user-data-dir argument, or don't use --user-data-dir; For documentation on this error, please visit: https://www.selenium.dev/documentation/webdriver/troubleshooting/errors#sessionnotcreatedexception\nStacktrace:\n#0 0x56bd740c9cba <unknown>\n#1 0x56bd73b3e8e0 <unknown>\n#2 0x56bd73b79af5 <unknown>\n#3 0x56bd73b742c8 <unknown>\n#4 0x56bd73bc43c6 <unknown>\n#5 0x56bd73bc3a96 <unknown>\n#6 0x56bd73bb5e43 <unknown>\n#7 0x56bd73b829a8 <unknown>\n#8 0x56bd73b83621 <unknown>\n#9 0x56bd7408d8b8 <unknown>\n#10 0x56bd740915e2 <unknown>\n#11 0x56bd74074683 <unknown>\n#12 0x56bd74092135 <unknown>\n#13 0x56bd7405980f <unknown>\n#14 0x56bd740b64c8 <unknown>\n#15 0x56bd740b66a2 <unknown>\n#16 0x56bd740c8dc3 <unknown>\n#17 0x7b9186b2eac3 <unknown>\n",
          "traceback": [
            "\u001b[0;31m---------------------------------------------------------------------------\u001b[0m",
            "\u001b[0;31mSessionNotCreatedException\u001b[0m                Traceback (most recent call last)",
            "\u001b[0;32m/tmp/ipython-input-366252985.py\u001b[0m in \u001b[0;36m<cell line: 0>\u001b[0;34m()\u001b[0m\n\u001b[1;32m      3\u001b[0m \u001b[0;32mfrom\u001b[0m \u001b[0mselenium\u001b[0m\u001b[0;34m.\u001b[0m\u001b[0mwebdriver\u001b[0m\u001b[0;34m.\u001b[0m\u001b[0mcommon\u001b[0m\u001b[0;34m.\u001b[0m\u001b[0mby\u001b[0m \u001b[0;32mimport\u001b[0m \u001b[0mBy\u001b[0m\u001b[0;34m\u001b[0m\u001b[0;34m\u001b[0m\u001b[0m\n\u001b[1;32m      4\u001b[0m \u001b[0;34m\u001b[0m\u001b[0m\n\u001b[0;32m----> 5\u001b[0;31m \u001b[0mdriver\u001b[0m \u001b[0;34m=\u001b[0m \u001b[0mwebdriver\u001b[0m\u001b[0;34m.\u001b[0m\u001b[0mChrome\u001b[0m\u001b[0;34m(\u001b[0m\u001b[0;34m)\u001b[0m\u001b[0;34m\u001b[0m\u001b[0;34m\u001b[0m\u001b[0m\n\u001b[0m\u001b[1;32m      6\u001b[0m \u001b[0mdriver\u001b[0m\u001b[0;34m.\u001b[0m\u001b[0mget\u001b[0m\u001b[0;34m(\u001b[0m\u001b[0;34m\"http://www.python.org\"\u001b[0m\u001b[0;34m)\u001b[0m\u001b[0;34m\u001b[0m\u001b[0;34m\u001b[0m\u001b[0m\n\u001b[1;32m      7\u001b[0m \u001b[0;32massert\u001b[0m \u001b[0;34m\"Python\"\u001b[0m \u001b[0;32min\u001b[0m \u001b[0mdriver\u001b[0m\u001b[0;34m.\u001b[0m\u001b[0mtitle\u001b[0m\u001b[0;34m\u001b[0m\u001b[0;34m\u001b[0m\u001b[0m\n",
            "\u001b[0;32m/usr/local/lib/python3.12/dist-packages/selenium/webdriver/chrome/webdriver.py\u001b[0m in \u001b[0;36m__init__\u001b[0;34m(self, options, service, keep_alive)\u001b[0m\n\u001b[1;32m     45\u001b[0m         \u001b[0moptions\u001b[0m \u001b[0;34m=\u001b[0m \u001b[0moptions\u001b[0m \u001b[0;32mif\u001b[0m \u001b[0moptions\u001b[0m \u001b[0;32melse\u001b[0m \u001b[0mOptions\u001b[0m\u001b[0;34m(\u001b[0m\u001b[0;34m)\u001b[0m\u001b[0;34m\u001b[0m\u001b[0;34m\u001b[0m\u001b[0m\n\u001b[1;32m     46\u001b[0m \u001b[0;34m\u001b[0m\u001b[0m\n\u001b[0;32m---> 47\u001b[0;31m         super().__init__(\n\u001b[0m\u001b[1;32m     48\u001b[0m             \u001b[0mbrowser_name\u001b[0m\u001b[0;34m=\u001b[0m\u001b[0mDesiredCapabilities\u001b[0m\u001b[0;34m.\u001b[0m\u001b[0mCHROME\u001b[0m\u001b[0;34m[\u001b[0m\u001b[0;34m\"browserName\"\u001b[0m\u001b[0;34m]\u001b[0m\u001b[0;34m,\u001b[0m\u001b[0;34m\u001b[0m\u001b[0;34m\u001b[0m\u001b[0m\n\u001b[1;32m     49\u001b[0m             \u001b[0mvendor_prefix\u001b[0m\u001b[0;34m=\u001b[0m\u001b[0;34m\"goog\"\u001b[0m\u001b[0;34m,\u001b[0m\u001b[0;34m\u001b[0m\u001b[0;34m\u001b[0m\u001b[0m\n",
            "\u001b[0;32m/usr/local/lib/python3.12/dist-packages/selenium/webdriver/chromium/webdriver.py\u001b[0m in \u001b[0;36m__init__\u001b[0;34m(self, browser_name, vendor_prefix, options, service, keep_alive)\u001b[0m\n\u001b[1;32m     67\u001b[0m \u001b[0;34m\u001b[0m\u001b[0m\n\u001b[1;32m     68\u001b[0m         \u001b[0;32mtry\u001b[0m\u001b[0;34m:\u001b[0m\u001b[0;34m\u001b[0m\u001b[0;34m\u001b[0m\u001b[0m\n\u001b[0;32m---> 69\u001b[0;31m             \u001b[0msuper\u001b[0m\u001b[0;34m(\u001b[0m\u001b[0;34m)\u001b[0m\u001b[0;34m.\u001b[0m\u001b[0m__init__\u001b[0m\u001b[0;34m(\u001b[0m\u001b[0mcommand_executor\u001b[0m\u001b[0;34m=\u001b[0m\u001b[0mexecutor\u001b[0m\u001b[0;34m,\u001b[0m \u001b[0moptions\u001b[0m\u001b[0;34m=\u001b[0m\u001b[0moptions\u001b[0m\u001b[0;34m)\u001b[0m\u001b[0;34m\u001b[0m\u001b[0;34m\u001b[0m\u001b[0m\n\u001b[0m\u001b[1;32m     70\u001b[0m         \u001b[0;32mexcept\u001b[0m \u001b[0mException\u001b[0m\u001b[0;34m:\u001b[0m\u001b[0;34m\u001b[0m\u001b[0;34m\u001b[0m\u001b[0m\n\u001b[1;32m     71\u001b[0m             \u001b[0mself\u001b[0m\u001b[0;34m.\u001b[0m\u001b[0mquit\u001b[0m\u001b[0;34m(\u001b[0m\u001b[0;34m)\u001b[0m\u001b[0;34m\u001b[0m\u001b[0;34m\u001b[0m\u001b[0m\n",
            "\u001b[0;32m/usr/local/lib/python3.12/dist-packages/selenium/webdriver/remote/webdriver.py\u001b[0m in \u001b[0;36m__init__\u001b[0;34m(self, command_executor, keep_alive, file_detector, options, locator_converter, web_element_cls, client_config)\u001b[0m\n\u001b[1;32m    261\u001b[0m         \u001b[0mself\u001b[0m\u001b[0;34m.\u001b[0m\u001b[0m_authenticator_id\u001b[0m \u001b[0;34m=\u001b[0m \u001b[0;32mNone\u001b[0m\u001b[0;34m\u001b[0m\u001b[0;34m\u001b[0m\u001b[0m\n\u001b[1;32m    262\u001b[0m         \u001b[0mself\u001b[0m\u001b[0;34m.\u001b[0m\u001b[0mstart_client\u001b[0m\u001b[0;34m(\u001b[0m\u001b[0;34m)\u001b[0m\u001b[0;34m\u001b[0m\u001b[0;34m\u001b[0m\u001b[0m\n\u001b[0;32m--> 263\u001b[0;31m         \u001b[0mself\u001b[0m\u001b[0;34m.\u001b[0m\u001b[0mstart_session\u001b[0m\u001b[0;34m(\u001b[0m\u001b[0mcapabilities\u001b[0m\u001b[0;34m)\u001b[0m\u001b[0;34m\u001b[0m\u001b[0;34m\u001b[0m\u001b[0m\n\u001b[0m\u001b[1;32m    264\u001b[0m         \u001b[0mself\u001b[0m\u001b[0;34m.\u001b[0m\u001b[0m_fedcm\u001b[0m \u001b[0;34m=\u001b[0m \u001b[0mFedCM\u001b[0m\u001b[0;34m(\u001b[0m\u001b[0mself\u001b[0m\u001b[0;34m)\u001b[0m\u001b[0;34m\u001b[0m\u001b[0;34m\u001b[0m\u001b[0m\n\u001b[1;32m    265\u001b[0m \u001b[0;34m\u001b[0m\u001b[0m\n",
            "\u001b[0;32m/usr/local/lib/python3.12/dist-packages/selenium/webdriver/remote/webdriver.py\u001b[0m in \u001b[0;36mstart_session\u001b[0;34m(self, capabilities)\u001b[0m\n\u001b[1;32m    364\u001b[0m         \u001b[0mcaps\u001b[0m \u001b[0;34m=\u001b[0m \u001b[0m_create_caps\u001b[0m\u001b[0;34m(\u001b[0m\u001b[0mcapabilities\u001b[0m\u001b[0;34m)\u001b[0m\u001b[0;34m\u001b[0m\u001b[0;34m\u001b[0m\u001b[0m\n\u001b[1;32m    365\u001b[0m         \u001b[0;32mtry\u001b[0m\u001b[0;34m:\u001b[0m\u001b[0;34m\u001b[0m\u001b[0;34m\u001b[0m\u001b[0m\n\u001b[0;32m--> 366\u001b[0;31m             \u001b[0mresponse\u001b[0m \u001b[0;34m=\u001b[0m \u001b[0mself\u001b[0m\u001b[0;34m.\u001b[0m\u001b[0mexecute\u001b[0m\u001b[0;34m(\u001b[0m\u001b[0mCommand\u001b[0m\u001b[0;34m.\u001b[0m\u001b[0mNEW_SESSION\u001b[0m\u001b[0;34m,\u001b[0m \u001b[0mcaps\u001b[0m\u001b[0;34m)\u001b[0m\u001b[0;34m[\u001b[0m\u001b[0;34m\"value\"\u001b[0m\u001b[0;34m]\u001b[0m\u001b[0;34m\u001b[0m\u001b[0;34m\u001b[0m\u001b[0m\n\u001b[0m\u001b[1;32m    367\u001b[0m             \u001b[0mself\u001b[0m\u001b[0;34m.\u001b[0m\u001b[0msession_id\u001b[0m \u001b[0;34m=\u001b[0m \u001b[0mresponse\u001b[0m\u001b[0;34m.\u001b[0m\u001b[0mget\u001b[0m\u001b[0;34m(\u001b[0m\u001b[0;34m\"sessionId\"\u001b[0m\u001b[0;34m)\u001b[0m\u001b[0;34m\u001b[0m\u001b[0;34m\u001b[0m\u001b[0m\n\u001b[1;32m    368\u001b[0m             \u001b[0mself\u001b[0m\u001b[0;34m.\u001b[0m\u001b[0mcaps\u001b[0m \u001b[0;34m=\u001b[0m \u001b[0mresponse\u001b[0m\u001b[0;34m.\u001b[0m\u001b[0mget\u001b[0m\u001b[0;34m(\u001b[0m\u001b[0;34m\"capabilities\"\u001b[0m\u001b[0;34m)\u001b[0m\u001b[0;34m\u001b[0m\u001b[0;34m\u001b[0m\u001b[0m\n",
            "\u001b[0;32m/usr/local/lib/python3.12/dist-packages/selenium/webdriver/remote/webdriver.py\u001b[0m in \u001b[0;36mexecute\u001b[0;34m(self, driver_command, params)\u001b[0m\n\u001b[1;32m    456\u001b[0m \u001b[0;34m\u001b[0m\u001b[0m\n\u001b[1;32m    457\u001b[0m         \u001b[0;32mif\u001b[0m \u001b[0mresponse\u001b[0m\u001b[0;34m:\u001b[0m\u001b[0;34m\u001b[0m\u001b[0;34m\u001b[0m\u001b[0m\n\u001b[0;32m--> 458\u001b[0;31m             \u001b[0mself\u001b[0m\u001b[0;34m.\u001b[0m\u001b[0merror_handler\u001b[0m\u001b[0;34m.\u001b[0m\u001b[0mcheck_response\u001b[0m\u001b[0;34m(\u001b[0m\u001b[0mresponse\u001b[0m\u001b[0;34m)\u001b[0m\u001b[0;34m\u001b[0m\u001b[0;34m\u001b[0m\u001b[0m\n\u001b[0m\u001b[1;32m    459\u001b[0m             \u001b[0mresponse\u001b[0m\u001b[0;34m[\u001b[0m\u001b[0;34m\"value\"\u001b[0m\u001b[0;34m]\u001b[0m \u001b[0;34m=\u001b[0m \u001b[0mself\u001b[0m\u001b[0;34m.\u001b[0m\u001b[0m_unwrap_value\u001b[0m\u001b[0;34m(\u001b[0m\u001b[0mresponse\u001b[0m\u001b[0;34m.\u001b[0m\u001b[0mget\u001b[0m\u001b[0;34m(\u001b[0m\u001b[0;34m\"value\"\u001b[0m\u001b[0;34m,\u001b[0m \u001b[0;32mNone\u001b[0m\u001b[0;34m)\u001b[0m\u001b[0;34m)\u001b[0m\u001b[0;34m\u001b[0m\u001b[0;34m\u001b[0m\u001b[0m\n\u001b[1;32m    460\u001b[0m             \u001b[0;32mreturn\u001b[0m \u001b[0mresponse\u001b[0m\u001b[0;34m\u001b[0m\u001b[0;34m\u001b[0m\u001b[0m\n",
            "\u001b[0;32m/usr/local/lib/python3.12/dist-packages/selenium/webdriver/remote/errorhandler.py\u001b[0m in \u001b[0;36mcheck_response\u001b[0;34m(self, response)\u001b[0m\n\u001b[1;32m    230\u001b[0m                 \u001b[0malert_text\u001b[0m \u001b[0;34m=\u001b[0m \u001b[0mvalue\u001b[0m\u001b[0;34m[\u001b[0m\u001b[0;34m\"alert\"\u001b[0m\u001b[0;34m]\u001b[0m\u001b[0;34m.\u001b[0m\u001b[0mget\u001b[0m\u001b[0;34m(\u001b[0m\u001b[0;34m\"text\"\u001b[0m\u001b[0;34m)\u001b[0m\u001b[0;34m\u001b[0m\u001b[0;34m\u001b[0m\u001b[0m\n\u001b[1;32m    231\u001b[0m             \u001b[0;32mraise\u001b[0m \u001b[0mexception_class\u001b[0m\u001b[0;34m(\u001b[0m\u001b[0mmessage\u001b[0m\u001b[0;34m,\u001b[0m \u001b[0mscreen\u001b[0m\u001b[0;34m,\u001b[0m \u001b[0mstacktrace\u001b[0m\u001b[0;34m,\u001b[0m \u001b[0malert_text\u001b[0m\u001b[0;34m)\u001b[0m  \u001b[0;31m# type: ignore[call-arg]  # mypy is not smart enough here\u001b[0m\u001b[0;34m\u001b[0m\u001b[0;34m\u001b[0m\u001b[0m\n\u001b[0;32m--> 232\u001b[0;31m         \u001b[0;32mraise\u001b[0m \u001b[0mexception_class\u001b[0m\u001b[0;34m(\u001b[0m\u001b[0mmessage\u001b[0m\u001b[0;34m,\u001b[0m \u001b[0mscreen\u001b[0m\u001b[0;34m,\u001b[0m \u001b[0mstacktrace\u001b[0m\u001b[0;34m)\u001b[0m\u001b[0;34m\u001b[0m\u001b[0;34m\u001b[0m\u001b[0m\n\u001b[0m",
            "\u001b[0;31mSessionNotCreatedException\u001b[0m: Message: session not created: probably user data directory is already in use, please specify a unique value for --user-data-dir argument, or don't use --user-data-dir; For documentation on this error, please visit: https://www.selenium.dev/documentation/webdriver/troubleshooting/errors#sessionnotcreatedexception\nStacktrace:\n#0 0x56bd740c9cba <unknown>\n#1 0x56bd73b3e8e0 <unknown>\n#2 0x56bd73b79af5 <unknown>\n#3 0x56bd73b742c8 <unknown>\n#4 0x56bd73bc43c6 <unknown>\n#5 0x56bd73bc3a96 <unknown>\n#6 0x56bd73bb5e43 <unknown>\n#7 0x56bd73b829a8 <unknown>\n#8 0x56bd73b83621 <unknown>\n#9 0x56bd7408d8b8 <unknown>\n#10 0x56bd740915e2 <unknown>\n#11 0x56bd74074683 <unknown>\n#12 0x56bd74092135 <unknown>\n#13 0x56bd7405980f <unknown>\n#14 0x56bd740b64c8 <unknown>\n#15 0x56bd740b66a2 <unknown>\n#16 0x56bd740c8dc3 <unknown>\n#17 0x7b9186b2eac3 <unknown>\n"
          ]
        }
      ]
    },
    {
      "cell_type": "code",
      "source": [
        "from selenium import webdriver\n",
        "from selenium.webdriver.chrome.service import Service\n",
        "from selenium.webdriver.chrome.options import Options\n",
        "\n",
        "chrome_options = Options()\n",
        "# Do NOT set user-data-dir\n",
        "# chrome_options.add_argument(\"--user-data-dir=/path/to/profile\")  ← comment this\n",
        "\n",
        "driver = webdriver.Chrome(options=chrome_options)\n",
        "driver.get(\"https://www.linkedin.com/in/hosseinekhodadadi/\")"
      ],
      "metadata": {
        "colab": {
          "base_uri": "https://localhost:8080/",
          "height": 704
        },
        "id": "q6VGQEzJYRzN",
        "outputId": "fa67aa0a-3bbb-4610-c7e4-a1ff3c67cd75"
      },
      "execution_count": null,
      "outputs": [
        {
          "output_type": "error",
          "ename": "SessionNotCreatedException",
          "evalue": "Message: session not created: probably user data directory is already in use, please specify a unique value for --user-data-dir argument, or don't use --user-data-dir; For documentation on this error, please visit: https://www.selenium.dev/documentation/webdriver/troubleshooting/errors#sessionnotcreatedexception\nStacktrace:\n#0 0x55952303bcba <unknown>\n#1 0x559522ab08e0 <unknown>\n#2 0x559522aebaf5 <unknown>\n#3 0x559522ae62c8 <unknown>\n#4 0x559522b363c6 <unknown>\n#5 0x559522b35a96 <unknown>\n#6 0x559522b27e43 <unknown>\n#7 0x559522af49a8 <unknown>\n#8 0x559522af5621 <unknown>\n#9 0x559522fff8b8 <unknown>\n#10 0x5595230035e2 <unknown>\n#11 0x559522fe6683 <unknown>\n#12 0x559523004135 <unknown>\n#13 0x559522fcb80f <unknown>\n#14 0x5595230284c8 <unknown>\n#15 0x5595230286a2 <unknown>\n#16 0x55952303adc3 <unknown>\n#17 0x7aab74d81ac3 <unknown>\n",
          "traceback": [
            "\u001b[0;31m---------------------------------------------------------------------------\u001b[0m",
            "\u001b[0;31mSessionNotCreatedException\u001b[0m                Traceback (most recent call last)",
            "\u001b[0;32m/tmp/ipython-input-2002879966.py\u001b[0m in \u001b[0;36m<cell line: 0>\u001b[0;34m()\u001b[0m\n\u001b[1;32m      7\u001b[0m \u001b[0;31m# chrome_options.add_argument(\"--user-data-dir=/path/to/profile\")  ← comment this\u001b[0m\u001b[0;34m\u001b[0m\u001b[0;34m\u001b[0m\u001b[0m\n\u001b[1;32m      8\u001b[0m \u001b[0;34m\u001b[0m\u001b[0m\n\u001b[0;32m----> 9\u001b[0;31m \u001b[0mdriver\u001b[0m \u001b[0;34m=\u001b[0m \u001b[0mwebdriver\u001b[0m\u001b[0;34m.\u001b[0m\u001b[0mChrome\u001b[0m\u001b[0;34m(\u001b[0m\u001b[0moptions\u001b[0m\u001b[0;34m=\u001b[0m\u001b[0mchrome_options\u001b[0m\u001b[0;34m)\u001b[0m\u001b[0;34m\u001b[0m\u001b[0;34m\u001b[0m\u001b[0m\n\u001b[0m\u001b[1;32m     10\u001b[0m \u001b[0mdriver\u001b[0m\u001b[0;34m.\u001b[0m\u001b[0mget\u001b[0m\u001b[0;34m(\u001b[0m\u001b[0;34m\"https://www.linkedin.com/in/hosseinekhodadadi/\"\u001b[0m\u001b[0;34m)\u001b[0m\u001b[0;34m\u001b[0m\u001b[0;34m\u001b[0m\u001b[0m\n",
            "\u001b[0;32m/usr/local/lib/python3.12/dist-packages/selenium/webdriver/chrome/webdriver.py\u001b[0m in \u001b[0;36m__init__\u001b[0;34m(self, options, service, keep_alive)\u001b[0m\n\u001b[1;32m     45\u001b[0m         \u001b[0moptions\u001b[0m \u001b[0;34m=\u001b[0m \u001b[0moptions\u001b[0m \u001b[0;32mif\u001b[0m \u001b[0moptions\u001b[0m \u001b[0;32melse\u001b[0m \u001b[0mOptions\u001b[0m\u001b[0;34m(\u001b[0m\u001b[0;34m)\u001b[0m\u001b[0;34m\u001b[0m\u001b[0;34m\u001b[0m\u001b[0m\n\u001b[1;32m     46\u001b[0m \u001b[0;34m\u001b[0m\u001b[0m\n\u001b[0;32m---> 47\u001b[0;31m         super().__init__(\n\u001b[0m\u001b[1;32m     48\u001b[0m             \u001b[0mbrowser_name\u001b[0m\u001b[0;34m=\u001b[0m\u001b[0mDesiredCapabilities\u001b[0m\u001b[0;34m.\u001b[0m\u001b[0mCHROME\u001b[0m\u001b[0;34m[\u001b[0m\u001b[0;34m\"browserName\"\u001b[0m\u001b[0;34m]\u001b[0m\u001b[0;34m,\u001b[0m\u001b[0;34m\u001b[0m\u001b[0;34m\u001b[0m\u001b[0m\n\u001b[1;32m     49\u001b[0m             \u001b[0mvendor_prefix\u001b[0m\u001b[0;34m=\u001b[0m\u001b[0;34m\"goog\"\u001b[0m\u001b[0;34m,\u001b[0m\u001b[0;34m\u001b[0m\u001b[0;34m\u001b[0m\u001b[0m\n",
            "\u001b[0;32m/usr/local/lib/python3.12/dist-packages/selenium/webdriver/chromium/webdriver.py\u001b[0m in \u001b[0;36m__init__\u001b[0;34m(self, browser_name, vendor_prefix, options, service, keep_alive)\u001b[0m\n\u001b[1;32m     67\u001b[0m \u001b[0;34m\u001b[0m\u001b[0m\n\u001b[1;32m     68\u001b[0m         \u001b[0;32mtry\u001b[0m\u001b[0;34m:\u001b[0m\u001b[0;34m\u001b[0m\u001b[0;34m\u001b[0m\u001b[0m\n\u001b[0;32m---> 69\u001b[0;31m             \u001b[0msuper\u001b[0m\u001b[0;34m(\u001b[0m\u001b[0;34m)\u001b[0m\u001b[0;34m.\u001b[0m\u001b[0m__init__\u001b[0m\u001b[0;34m(\u001b[0m\u001b[0mcommand_executor\u001b[0m\u001b[0;34m=\u001b[0m\u001b[0mexecutor\u001b[0m\u001b[0;34m,\u001b[0m \u001b[0moptions\u001b[0m\u001b[0;34m=\u001b[0m\u001b[0moptions\u001b[0m\u001b[0;34m)\u001b[0m\u001b[0;34m\u001b[0m\u001b[0;34m\u001b[0m\u001b[0m\n\u001b[0m\u001b[1;32m     70\u001b[0m         \u001b[0;32mexcept\u001b[0m \u001b[0mException\u001b[0m\u001b[0;34m:\u001b[0m\u001b[0;34m\u001b[0m\u001b[0;34m\u001b[0m\u001b[0m\n\u001b[1;32m     71\u001b[0m             \u001b[0mself\u001b[0m\u001b[0;34m.\u001b[0m\u001b[0mquit\u001b[0m\u001b[0;34m(\u001b[0m\u001b[0;34m)\u001b[0m\u001b[0;34m\u001b[0m\u001b[0;34m\u001b[0m\u001b[0m\n",
            "\u001b[0;32m/usr/local/lib/python3.12/dist-packages/selenium/webdriver/remote/webdriver.py\u001b[0m in \u001b[0;36m__init__\u001b[0;34m(self, command_executor, keep_alive, file_detector, options, locator_converter, web_element_cls, client_config)\u001b[0m\n\u001b[1;32m    261\u001b[0m         \u001b[0mself\u001b[0m\u001b[0;34m.\u001b[0m\u001b[0m_authenticator_id\u001b[0m \u001b[0;34m=\u001b[0m \u001b[0;32mNone\u001b[0m\u001b[0;34m\u001b[0m\u001b[0;34m\u001b[0m\u001b[0m\n\u001b[1;32m    262\u001b[0m         \u001b[0mself\u001b[0m\u001b[0;34m.\u001b[0m\u001b[0mstart_client\u001b[0m\u001b[0;34m(\u001b[0m\u001b[0;34m)\u001b[0m\u001b[0;34m\u001b[0m\u001b[0;34m\u001b[0m\u001b[0m\n\u001b[0;32m--> 263\u001b[0;31m         \u001b[0mself\u001b[0m\u001b[0;34m.\u001b[0m\u001b[0mstart_session\u001b[0m\u001b[0;34m(\u001b[0m\u001b[0mcapabilities\u001b[0m\u001b[0;34m)\u001b[0m\u001b[0;34m\u001b[0m\u001b[0;34m\u001b[0m\u001b[0m\n\u001b[0m\u001b[1;32m    264\u001b[0m         \u001b[0mself\u001b[0m\u001b[0;34m.\u001b[0m\u001b[0m_fedcm\u001b[0m \u001b[0;34m=\u001b[0m \u001b[0mFedCM\u001b[0m\u001b[0;34m(\u001b[0m\u001b[0mself\u001b[0m\u001b[0;34m)\u001b[0m\u001b[0;34m\u001b[0m\u001b[0;34m\u001b[0m\u001b[0m\n\u001b[1;32m    265\u001b[0m \u001b[0;34m\u001b[0m\u001b[0m\n",
            "\u001b[0;32m/usr/local/lib/python3.12/dist-packages/selenium/webdriver/remote/webdriver.py\u001b[0m in \u001b[0;36mstart_session\u001b[0;34m(self, capabilities)\u001b[0m\n\u001b[1;32m    364\u001b[0m         \u001b[0mcaps\u001b[0m \u001b[0;34m=\u001b[0m \u001b[0m_create_caps\u001b[0m\u001b[0;34m(\u001b[0m\u001b[0mcapabilities\u001b[0m\u001b[0;34m)\u001b[0m\u001b[0;34m\u001b[0m\u001b[0;34m\u001b[0m\u001b[0m\n\u001b[1;32m    365\u001b[0m         \u001b[0;32mtry\u001b[0m\u001b[0;34m:\u001b[0m\u001b[0;34m\u001b[0m\u001b[0;34m\u001b[0m\u001b[0m\n\u001b[0;32m--> 366\u001b[0;31m             \u001b[0mresponse\u001b[0m \u001b[0;34m=\u001b[0m \u001b[0mself\u001b[0m\u001b[0;34m.\u001b[0m\u001b[0mexecute\u001b[0m\u001b[0;34m(\u001b[0m\u001b[0mCommand\u001b[0m\u001b[0;34m.\u001b[0m\u001b[0mNEW_SESSION\u001b[0m\u001b[0;34m,\u001b[0m \u001b[0mcaps\u001b[0m\u001b[0;34m)\u001b[0m\u001b[0;34m[\u001b[0m\u001b[0;34m\"value\"\u001b[0m\u001b[0;34m]\u001b[0m\u001b[0;34m\u001b[0m\u001b[0;34m\u001b[0m\u001b[0m\n\u001b[0m\u001b[1;32m    367\u001b[0m             \u001b[0mself\u001b[0m\u001b[0;34m.\u001b[0m\u001b[0msession_id\u001b[0m \u001b[0;34m=\u001b[0m \u001b[0mresponse\u001b[0m\u001b[0;34m.\u001b[0m\u001b[0mget\u001b[0m\u001b[0;34m(\u001b[0m\u001b[0;34m\"sessionId\"\u001b[0m\u001b[0;34m)\u001b[0m\u001b[0;34m\u001b[0m\u001b[0;34m\u001b[0m\u001b[0m\n\u001b[1;32m    368\u001b[0m             \u001b[0mself\u001b[0m\u001b[0;34m.\u001b[0m\u001b[0mcaps\u001b[0m \u001b[0;34m=\u001b[0m \u001b[0mresponse\u001b[0m\u001b[0;34m.\u001b[0m\u001b[0mget\u001b[0m\u001b[0;34m(\u001b[0m\u001b[0;34m\"capabilities\"\u001b[0m\u001b[0;34m)\u001b[0m\u001b[0;34m\u001b[0m\u001b[0;34m\u001b[0m\u001b[0m\n",
            "\u001b[0;32m/usr/local/lib/python3.12/dist-packages/selenium/webdriver/remote/webdriver.py\u001b[0m in \u001b[0;36mexecute\u001b[0;34m(self, driver_command, params)\u001b[0m\n\u001b[1;32m    456\u001b[0m \u001b[0;34m\u001b[0m\u001b[0m\n\u001b[1;32m    457\u001b[0m         \u001b[0;32mif\u001b[0m \u001b[0mresponse\u001b[0m\u001b[0;34m:\u001b[0m\u001b[0;34m\u001b[0m\u001b[0;34m\u001b[0m\u001b[0m\n\u001b[0;32m--> 458\u001b[0;31m             \u001b[0mself\u001b[0m\u001b[0;34m.\u001b[0m\u001b[0merror_handler\u001b[0m\u001b[0;34m.\u001b[0m\u001b[0mcheck_response\u001b[0m\u001b[0;34m(\u001b[0m\u001b[0mresponse\u001b[0m\u001b[0;34m)\u001b[0m\u001b[0;34m\u001b[0m\u001b[0;34m\u001b[0m\u001b[0m\n\u001b[0m\u001b[1;32m    459\u001b[0m             \u001b[0mresponse\u001b[0m\u001b[0;34m[\u001b[0m\u001b[0;34m\"value\"\u001b[0m\u001b[0;34m]\u001b[0m \u001b[0;34m=\u001b[0m \u001b[0mself\u001b[0m\u001b[0;34m.\u001b[0m\u001b[0m_unwrap_value\u001b[0m\u001b[0;34m(\u001b[0m\u001b[0mresponse\u001b[0m\u001b[0;34m.\u001b[0m\u001b[0mget\u001b[0m\u001b[0;34m(\u001b[0m\u001b[0;34m\"value\"\u001b[0m\u001b[0;34m,\u001b[0m \u001b[0;32mNone\u001b[0m\u001b[0;34m)\u001b[0m\u001b[0;34m)\u001b[0m\u001b[0;34m\u001b[0m\u001b[0;34m\u001b[0m\u001b[0m\n\u001b[1;32m    460\u001b[0m             \u001b[0;32mreturn\u001b[0m \u001b[0mresponse\u001b[0m\u001b[0;34m\u001b[0m\u001b[0;34m\u001b[0m\u001b[0m\n",
            "\u001b[0;32m/usr/local/lib/python3.12/dist-packages/selenium/webdriver/remote/errorhandler.py\u001b[0m in \u001b[0;36mcheck_response\u001b[0;34m(self, response)\u001b[0m\n\u001b[1;32m    230\u001b[0m                 \u001b[0malert_text\u001b[0m \u001b[0;34m=\u001b[0m \u001b[0mvalue\u001b[0m\u001b[0;34m[\u001b[0m\u001b[0;34m\"alert\"\u001b[0m\u001b[0;34m]\u001b[0m\u001b[0;34m.\u001b[0m\u001b[0mget\u001b[0m\u001b[0;34m(\u001b[0m\u001b[0;34m\"text\"\u001b[0m\u001b[0;34m)\u001b[0m\u001b[0;34m\u001b[0m\u001b[0;34m\u001b[0m\u001b[0m\n\u001b[1;32m    231\u001b[0m             \u001b[0;32mraise\u001b[0m \u001b[0mexception_class\u001b[0m\u001b[0;34m(\u001b[0m\u001b[0mmessage\u001b[0m\u001b[0;34m,\u001b[0m \u001b[0mscreen\u001b[0m\u001b[0;34m,\u001b[0m \u001b[0mstacktrace\u001b[0m\u001b[0;34m,\u001b[0m \u001b[0malert_text\u001b[0m\u001b[0;34m)\u001b[0m  \u001b[0;31m# type: ignore[call-arg]  # mypy is not smart enough here\u001b[0m\u001b[0;34m\u001b[0m\u001b[0;34m\u001b[0m\u001b[0m\n\u001b[0;32m--> 232\u001b[0;31m         \u001b[0;32mraise\u001b[0m \u001b[0mexception_class\u001b[0m\u001b[0;34m(\u001b[0m\u001b[0mmessage\u001b[0m\u001b[0;34m,\u001b[0m \u001b[0mscreen\u001b[0m\u001b[0;34m,\u001b[0m \u001b[0mstacktrace\u001b[0m\u001b[0;34m)\u001b[0m\u001b[0;34m\u001b[0m\u001b[0;34m\u001b[0m\u001b[0m\n\u001b[0m",
            "\u001b[0;31mSessionNotCreatedException\u001b[0m: Message: session not created: probably user data directory is already in use, please specify a unique value for --user-data-dir argument, or don't use --user-data-dir; For documentation on this error, please visit: https://www.selenium.dev/documentation/webdriver/troubleshooting/errors#sessionnotcreatedexception\nStacktrace:\n#0 0x55952303bcba <unknown>\n#1 0x559522ab08e0 <unknown>\n#2 0x559522aebaf5 <unknown>\n#3 0x559522ae62c8 <unknown>\n#4 0x559522b363c6 <unknown>\n#5 0x559522b35a96 <unknown>\n#6 0x559522b27e43 <unknown>\n#7 0x559522af49a8 <unknown>\n#8 0x559522af5621 <unknown>\n#9 0x559522fff8b8 <unknown>\n#10 0x5595230035e2 <unknown>\n#11 0x559522fe6683 <unknown>\n#12 0x559523004135 <unknown>\n#13 0x559522fcb80f <unknown>\n#14 0x5595230284c8 <unknown>\n#15 0x5595230286a2 <unknown>\n#16 0x55952303adc3 <unknown>\n#17 0x7aab74d81ac3 <unknown>\n"
          ]
        }
      ]
    },
    {
      "cell_type": "code",
      "source": [
        "from selenium import webdriver\n",
        "from selenium.webdriver.common.by import By\n",
        "import time\n",
        "\n",
        "driver = webdriver.Chrome()\n",
        "\n",
        "driver.get(\"https://www.linkedin.com/in/hosseinekhodadadi/\")\n",
        "\n",
        "# Wait for the page to load (not best practice, but simple for demo)\n",
        "time.sleep(3)\n",
        "\n",
        "# element = driver.find_element(By.ID, \"your-element-id\")\n",
        "element = driver.find_element(\"#global-nav > div > nav > ul > li:nth-child(2) > a > div > div > li-icon > svg > path\")\n",
        "\n",
        "\n",
        "# Interact with the element (e.g., click, get text, etc.)\n",
        "element.click()  # or element.text, or element.send_keys(\"Hello\")\n",
        "\n",
        "# Pause to see the result\n",
        "time.sleep(5)\n",
        "\n",
        "# Close the browser\n",
        "driver.quit()\n"
      ],
      "metadata": {
        "colab": {
          "base_uri": "https://localhost:8080/",
          "height": 722
        },
        "id": "By2SBji5WfQR",
        "outputId": "f2f569c9-c9d0-4d07-9985-efa72e5b561a"
      },
      "execution_count": null,
      "outputs": [
        {
          "output_type": "error",
          "ename": "SessionNotCreatedException",
          "evalue": "Message: session not created: probably user data directory is already in use, please specify a unique value for --user-data-dir argument, or don't use --user-data-dir; For documentation on this error, please visit: https://www.selenium.dev/documentation/webdriver/troubleshooting/errors#sessionnotcreatedexception\nStacktrace:\n#0 0x55d0d4f6bcba <unknown>\n#1 0x55d0d49e08e0 <unknown>\n#2 0x55d0d4a1baf5 <unknown>\n#3 0x55d0d4a162c8 <unknown>\n#4 0x55d0d4a663c6 <unknown>\n#5 0x55d0d4a65a96 <unknown>\n#6 0x55d0d4a57e43 <unknown>\n#7 0x55d0d4a249a8 <unknown>\n#8 0x55d0d4a25621 <unknown>\n#9 0x55d0d4f2f8b8 <unknown>\n#10 0x55d0d4f335e2 <unknown>\n#11 0x55d0d4f16683 <unknown>\n#12 0x55d0d4f34135 <unknown>\n#13 0x55d0d4efb80f <unknown>\n#14 0x55d0d4f584c8 <unknown>\n#15 0x55d0d4f586a2 <unknown>\n#16 0x55d0d4f6adc3 <unknown>\n#17 0x7e4c0e4bbac3 <unknown>\n",
          "traceback": [
            "\u001b[0;31m---------------------------------------------------------------------------\u001b[0m",
            "\u001b[0;31mSessionNotCreatedException\u001b[0m                Traceback (most recent call last)",
            "\u001b[0;32m/tmp/ipython-input-1347149253.py\u001b[0m in \u001b[0;36m<cell line: 0>\u001b[0;34m()\u001b[0m\n\u001b[1;32m      3\u001b[0m \u001b[0;32mimport\u001b[0m \u001b[0mtime\u001b[0m\u001b[0;34m\u001b[0m\u001b[0;34m\u001b[0m\u001b[0m\n\u001b[1;32m      4\u001b[0m \u001b[0;34m\u001b[0m\u001b[0m\n\u001b[0;32m----> 5\u001b[0;31m \u001b[0mdriver\u001b[0m \u001b[0;34m=\u001b[0m \u001b[0mwebdriver\u001b[0m\u001b[0;34m.\u001b[0m\u001b[0mChrome\u001b[0m\u001b[0;34m(\u001b[0m\u001b[0;34m)\u001b[0m\u001b[0;34m\u001b[0m\u001b[0;34m\u001b[0m\u001b[0m\n\u001b[0m\u001b[1;32m      6\u001b[0m \u001b[0;34m\u001b[0m\u001b[0m\n\u001b[1;32m      7\u001b[0m \u001b[0mdriver\u001b[0m\u001b[0;34m.\u001b[0m\u001b[0mget\u001b[0m\u001b[0;34m(\u001b[0m\u001b[0;34m\"https://www.linkedin.com/in/hosseinekhodadadi/\"\u001b[0m\u001b[0;34m)\u001b[0m\u001b[0;34m\u001b[0m\u001b[0;34m\u001b[0m\u001b[0m\n",
            "\u001b[0;32m/usr/local/lib/python3.12/dist-packages/selenium/webdriver/chrome/webdriver.py\u001b[0m in \u001b[0;36m__init__\u001b[0;34m(self, options, service, keep_alive)\u001b[0m\n\u001b[1;32m     45\u001b[0m         \u001b[0moptions\u001b[0m \u001b[0;34m=\u001b[0m \u001b[0moptions\u001b[0m \u001b[0;32mif\u001b[0m \u001b[0moptions\u001b[0m \u001b[0;32melse\u001b[0m \u001b[0mOptions\u001b[0m\u001b[0;34m(\u001b[0m\u001b[0;34m)\u001b[0m\u001b[0;34m\u001b[0m\u001b[0;34m\u001b[0m\u001b[0m\n\u001b[1;32m     46\u001b[0m \u001b[0;34m\u001b[0m\u001b[0m\n\u001b[0;32m---> 47\u001b[0;31m         super().__init__(\n\u001b[0m\u001b[1;32m     48\u001b[0m             \u001b[0mbrowser_name\u001b[0m\u001b[0;34m=\u001b[0m\u001b[0mDesiredCapabilities\u001b[0m\u001b[0;34m.\u001b[0m\u001b[0mCHROME\u001b[0m\u001b[0;34m[\u001b[0m\u001b[0;34m\"browserName\"\u001b[0m\u001b[0;34m]\u001b[0m\u001b[0;34m,\u001b[0m\u001b[0;34m\u001b[0m\u001b[0;34m\u001b[0m\u001b[0m\n\u001b[1;32m     49\u001b[0m             \u001b[0mvendor_prefix\u001b[0m\u001b[0;34m=\u001b[0m\u001b[0;34m\"goog\"\u001b[0m\u001b[0;34m,\u001b[0m\u001b[0;34m\u001b[0m\u001b[0;34m\u001b[0m\u001b[0m\n",
            "\u001b[0;32m/usr/local/lib/python3.12/dist-packages/selenium/webdriver/chromium/webdriver.py\u001b[0m in \u001b[0;36m__init__\u001b[0;34m(self, browser_name, vendor_prefix, options, service, keep_alive)\u001b[0m\n\u001b[1;32m     67\u001b[0m \u001b[0;34m\u001b[0m\u001b[0m\n\u001b[1;32m     68\u001b[0m         \u001b[0;32mtry\u001b[0m\u001b[0;34m:\u001b[0m\u001b[0;34m\u001b[0m\u001b[0;34m\u001b[0m\u001b[0m\n\u001b[0;32m---> 69\u001b[0;31m             \u001b[0msuper\u001b[0m\u001b[0;34m(\u001b[0m\u001b[0;34m)\u001b[0m\u001b[0;34m.\u001b[0m\u001b[0m__init__\u001b[0m\u001b[0;34m(\u001b[0m\u001b[0mcommand_executor\u001b[0m\u001b[0;34m=\u001b[0m\u001b[0mexecutor\u001b[0m\u001b[0;34m,\u001b[0m \u001b[0moptions\u001b[0m\u001b[0;34m=\u001b[0m\u001b[0moptions\u001b[0m\u001b[0;34m)\u001b[0m\u001b[0;34m\u001b[0m\u001b[0;34m\u001b[0m\u001b[0m\n\u001b[0m\u001b[1;32m     70\u001b[0m         \u001b[0;32mexcept\u001b[0m \u001b[0mException\u001b[0m\u001b[0;34m:\u001b[0m\u001b[0;34m\u001b[0m\u001b[0;34m\u001b[0m\u001b[0m\n\u001b[1;32m     71\u001b[0m             \u001b[0mself\u001b[0m\u001b[0;34m.\u001b[0m\u001b[0mquit\u001b[0m\u001b[0;34m(\u001b[0m\u001b[0;34m)\u001b[0m\u001b[0;34m\u001b[0m\u001b[0;34m\u001b[0m\u001b[0m\n",
            "\u001b[0;32m/usr/local/lib/python3.12/dist-packages/selenium/webdriver/remote/webdriver.py\u001b[0m in \u001b[0;36m__init__\u001b[0;34m(self, command_executor, keep_alive, file_detector, options, locator_converter, web_element_cls, client_config)\u001b[0m\n\u001b[1;32m    261\u001b[0m         \u001b[0mself\u001b[0m\u001b[0;34m.\u001b[0m\u001b[0m_authenticator_id\u001b[0m \u001b[0;34m=\u001b[0m \u001b[0;32mNone\u001b[0m\u001b[0;34m\u001b[0m\u001b[0;34m\u001b[0m\u001b[0m\n\u001b[1;32m    262\u001b[0m         \u001b[0mself\u001b[0m\u001b[0;34m.\u001b[0m\u001b[0mstart_client\u001b[0m\u001b[0;34m(\u001b[0m\u001b[0;34m)\u001b[0m\u001b[0;34m\u001b[0m\u001b[0;34m\u001b[0m\u001b[0m\n\u001b[0;32m--> 263\u001b[0;31m         \u001b[0mself\u001b[0m\u001b[0;34m.\u001b[0m\u001b[0mstart_session\u001b[0m\u001b[0;34m(\u001b[0m\u001b[0mcapabilities\u001b[0m\u001b[0;34m)\u001b[0m\u001b[0;34m\u001b[0m\u001b[0;34m\u001b[0m\u001b[0m\n\u001b[0m\u001b[1;32m    264\u001b[0m         \u001b[0mself\u001b[0m\u001b[0;34m.\u001b[0m\u001b[0m_fedcm\u001b[0m \u001b[0;34m=\u001b[0m \u001b[0mFedCM\u001b[0m\u001b[0;34m(\u001b[0m\u001b[0mself\u001b[0m\u001b[0;34m)\u001b[0m\u001b[0;34m\u001b[0m\u001b[0;34m\u001b[0m\u001b[0m\n\u001b[1;32m    265\u001b[0m \u001b[0;34m\u001b[0m\u001b[0m\n",
            "\u001b[0;32m/usr/local/lib/python3.12/dist-packages/selenium/webdriver/remote/webdriver.py\u001b[0m in \u001b[0;36mstart_session\u001b[0;34m(self, capabilities)\u001b[0m\n\u001b[1;32m    364\u001b[0m         \u001b[0mcaps\u001b[0m \u001b[0;34m=\u001b[0m \u001b[0m_create_caps\u001b[0m\u001b[0;34m(\u001b[0m\u001b[0mcapabilities\u001b[0m\u001b[0;34m)\u001b[0m\u001b[0;34m\u001b[0m\u001b[0;34m\u001b[0m\u001b[0m\n\u001b[1;32m    365\u001b[0m         \u001b[0;32mtry\u001b[0m\u001b[0;34m:\u001b[0m\u001b[0;34m\u001b[0m\u001b[0;34m\u001b[0m\u001b[0m\n\u001b[0;32m--> 366\u001b[0;31m             \u001b[0mresponse\u001b[0m \u001b[0;34m=\u001b[0m \u001b[0mself\u001b[0m\u001b[0;34m.\u001b[0m\u001b[0mexecute\u001b[0m\u001b[0;34m(\u001b[0m\u001b[0mCommand\u001b[0m\u001b[0;34m.\u001b[0m\u001b[0mNEW_SESSION\u001b[0m\u001b[0;34m,\u001b[0m \u001b[0mcaps\u001b[0m\u001b[0;34m)\u001b[0m\u001b[0;34m[\u001b[0m\u001b[0;34m\"value\"\u001b[0m\u001b[0;34m]\u001b[0m\u001b[0;34m\u001b[0m\u001b[0;34m\u001b[0m\u001b[0m\n\u001b[0m\u001b[1;32m    367\u001b[0m             \u001b[0mself\u001b[0m\u001b[0;34m.\u001b[0m\u001b[0msession_id\u001b[0m \u001b[0;34m=\u001b[0m \u001b[0mresponse\u001b[0m\u001b[0;34m.\u001b[0m\u001b[0mget\u001b[0m\u001b[0;34m(\u001b[0m\u001b[0;34m\"sessionId\"\u001b[0m\u001b[0;34m)\u001b[0m\u001b[0;34m\u001b[0m\u001b[0;34m\u001b[0m\u001b[0m\n\u001b[1;32m    368\u001b[0m             \u001b[0mself\u001b[0m\u001b[0;34m.\u001b[0m\u001b[0mcaps\u001b[0m \u001b[0;34m=\u001b[0m \u001b[0mresponse\u001b[0m\u001b[0;34m.\u001b[0m\u001b[0mget\u001b[0m\u001b[0;34m(\u001b[0m\u001b[0;34m\"capabilities\"\u001b[0m\u001b[0;34m)\u001b[0m\u001b[0;34m\u001b[0m\u001b[0;34m\u001b[0m\u001b[0m\n",
            "\u001b[0;32m/usr/local/lib/python3.12/dist-packages/selenium/webdriver/remote/webdriver.py\u001b[0m in \u001b[0;36mexecute\u001b[0;34m(self, driver_command, params)\u001b[0m\n\u001b[1;32m    456\u001b[0m \u001b[0;34m\u001b[0m\u001b[0m\n\u001b[1;32m    457\u001b[0m         \u001b[0;32mif\u001b[0m \u001b[0mresponse\u001b[0m\u001b[0;34m:\u001b[0m\u001b[0;34m\u001b[0m\u001b[0;34m\u001b[0m\u001b[0m\n\u001b[0;32m--> 458\u001b[0;31m             \u001b[0mself\u001b[0m\u001b[0;34m.\u001b[0m\u001b[0merror_handler\u001b[0m\u001b[0;34m.\u001b[0m\u001b[0mcheck_response\u001b[0m\u001b[0;34m(\u001b[0m\u001b[0mresponse\u001b[0m\u001b[0;34m)\u001b[0m\u001b[0;34m\u001b[0m\u001b[0;34m\u001b[0m\u001b[0m\n\u001b[0m\u001b[1;32m    459\u001b[0m             \u001b[0mresponse\u001b[0m\u001b[0;34m[\u001b[0m\u001b[0;34m\"value\"\u001b[0m\u001b[0;34m]\u001b[0m \u001b[0;34m=\u001b[0m \u001b[0mself\u001b[0m\u001b[0;34m.\u001b[0m\u001b[0m_unwrap_value\u001b[0m\u001b[0;34m(\u001b[0m\u001b[0mresponse\u001b[0m\u001b[0;34m.\u001b[0m\u001b[0mget\u001b[0m\u001b[0;34m(\u001b[0m\u001b[0;34m\"value\"\u001b[0m\u001b[0;34m,\u001b[0m \u001b[0;32mNone\u001b[0m\u001b[0;34m)\u001b[0m\u001b[0;34m)\u001b[0m\u001b[0;34m\u001b[0m\u001b[0;34m\u001b[0m\u001b[0m\n\u001b[1;32m    460\u001b[0m             \u001b[0;32mreturn\u001b[0m \u001b[0mresponse\u001b[0m\u001b[0;34m\u001b[0m\u001b[0;34m\u001b[0m\u001b[0m\n",
            "\u001b[0;32m/usr/local/lib/python3.12/dist-packages/selenium/webdriver/remote/errorhandler.py\u001b[0m in \u001b[0;36mcheck_response\u001b[0;34m(self, response)\u001b[0m\n\u001b[1;32m    230\u001b[0m                 \u001b[0malert_text\u001b[0m \u001b[0;34m=\u001b[0m \u001b[0mvalue\u001b[0m\u001b[0;34m[\u001b[0m\u001b[0;34m\"alert\"\u001b[0m\u001b[0;34m]\u001b[0m\u001b[0;34m.\u001b[0m\u001b[0mget\u001b[0m\u001b[0;34m(\u001b[0m\u001b[0;34m\"text\"\u001b[0m\u001b[0;34m)\u001b[0m\u001b[0;34m\u001b[0m\u001b[0;34m\u001b[0m\u001b[0m\n\u001b[1;32m    231\u001b[0m             \u001b[0;32mraise\u001b[0m \u001b[0mexception_class\u001b[0m\u001b[0;34m(\u001b[0m\u001b[0mmessage\u001b[0m\u001b[0;34m,\u001b[0m \u001b[0mscreen\u001b[0m\u001b[0;34m,\u001b[0m \u001b[0mstacktrace\u001b[0m\u001b[0;34m,\u001b[0m \u001b[0malert_text\u001b[0m\u001b[0;34m)\u001b[0m  \u001b[0;31m# type: ignore[call-arg]  # mypy is not smart enough here\u001b[0m\u001b[0;34m\u001b[0m\u001b[0;34m\u001b[0m\u001b[0m\n\u001b[0;32m--> 232\u001b[0;31m         \u001b[0;32mraise\u001b[0m \u001b[0mexception_class\u001b[0m\u001b[0;34m(\u001b[0m\u001b[0mmessage\u001b[0m\u001b[0;34m,\u001b[0m \u001b[0mscreen\u001b[0m\u001b[0;34m,\u001b[0m \u001b[0mstacktrace\u001b[0m\u001b[0;34m)\u001b[0m\u001b[0;34m\u001b[0m\u001b[0;34m\u001b[0m\u001b[0m\n\u001b[0m",
            "\u001b[0;31mSessionNotCreatedException\u001b[0m: Message: session not created: probably user data directory is already in use, please specify a unique value for --user-data-dir argument, or don't use --user-data-dir; For documentation on this error, please visit: https://www.selenium.dev/documentation/webdriver/troubleshooting/errors#sessionnotcreatedexception\nStacktrace:\n#0 0x55d0d4f6bcba <unknown>\n#1 0x55d0d49e08e0 <unknown>\n#2 0x55d0d4a1baf5 <unknown>\n#3 0x55d0d4a162c8 <unknown>\n#4 0x55d0d4a663c6 <unknown>\n#5 0x55d0d4a65a96 <unknown>\n#6 0x55d0d4a57e43 <unknown>\n#7 0x55d0d4a249a8 <unknown>\n#8 0x55d0d4a25621 <unknown>\n#9 0x55d0d4f2f8b8 <unknown>\n#10 0x55d0d4f335e2 <unknown>\n#11 0x55d0d4f16683 <unknown>\n#12 0x55d0d4f34135 <unknown>\n#13 0x55d0d4efb80f <unknown>\n#14 0x55d0d4f584c8 <unknown>\n#15 0x55d0d4f586a2 <unknown>\n#16 0x55d0d4f6adc3 <unknown>\n#17 0x7e4c0e4bbac3 <unknown>\n"
          ]
        }
      ]
    },
    {
      "cell_type": "code",
      "source": [
        "import requests\n",
        "response = requests.get(\"https://hossenkhodadadi.github.io/\")\n",
        "data = response.json()\n",
        "print(data)"
      ],
      "metadata": {
        "colab": {
          "base_uri": "https://localhost:8080/",
          "height": 418
        },
        "id": "hbCz6Q2vv-19",
        "outputId": "25ab9663-015d-4d5f-a4cd-e2f1b2de7f05"
      },
      "execution_count": null,
      "outputs": [
        {
          "output_type": "error",
          "ename": "JSONDecodeError",
          "evalue": "Expecting value: line 1 column 1 (char 0)",
          "traceback": [
            "\u001b[0;31m---------------------------------------------------------------------------\u001b[0m",
            "\u001b[0;31mJSONDecodeError\u001b[0m                           Traceback (most recent call last)",
            "\u001b[0;32m/usr/local/lib/python3.12/dist-packages/requests/models.py\u001b[0m in \u001b[0;36mjson\u001b[0;34m(self, **kwargs)\u001b[0m\n\u001b[1;32m    975\u001b[0m         \u001b[0;32mtry\u001b[0m\u001b[0;34m:\u001b[0m\u001b[0;34m\u001b[0m\u001b[0;34m\u001b[0m\u001b[0m\n\u001b[0;32m--> 976\u001b[0;31m             \u001b[0;32mreturn\u001b[0m \u001b[0mcomplexjson\u001b[0m\u001b[0;34m.\u001b[0m\u001b[0mloads\u001b[0m\u001b[0;34m(\u001b[0m\u001b[0mself\u001b[0m\u001b[0;34m.\u001b[0m\u001b[0mtext\u001b[0m\u001b[0;34m,\u001b[0m \u001b[0;34m**\u001b[0m\u001b[0mkwargs\u001b[0m\u001b[0;34m)\u001b[0m\u001b[0;34m\u001b[0m\u001b[0;34m\u001b[0m\u001b[0m\n\u001b[0m\u001b[1;32m    977\u001b[0m         \u001b[0;32mexcept\u001b[0m \u001b[0mJSONDecodeError\u001b[0m \u001b[0;32mas\u001b[0m \u001b[0me\u001b[0m\u001b[0;34m:\u001b[0m\u001b[0;34m\u001b[0m\u001b[0;34m\u001b[0m\u001b[0m\n",
            "\u001b[0;32m/usr/local/lib/python3.12/dist-packages/simplejson/__init__.py\u001b[0m in \u001b[0;36mloads\u001b[0;34m(s, encoding, cls, object_hook, parse_float, parse_int, parse_constant, object_pairs_hook, use_decimal, allow_nan, **kw)\u001b[0m\n\u001b[1;32m    513\u001b[0m             and not use_decimal and not allow_nan and not kw):\n\u001b[0;32m--> 514\u001b[0;31m         \u001b[0;32mreturn\u001b[0m \u001b[0m_default_decoder\u001b[0m\u001b[0;34m.\u001b[0m\u001b[0mdecode\u001b[0m\u001b[0;34m(\u001b[0m\u001b[0ms\u001b[0m\u001b[0;34m)\u001b[0m\u001b[0;34m\u001b[0m\u001b[0;34m\u001b[0m\u001b[0m\n\u001b[0m\u001b[1;32m    515\u001b[0m     \u001b[0;32mif\u001b[0m \u001b[0mcls\u001b[0m \u001b[0;32mis\u001b[0m \u001b[0;32mNone\u001b[0m\u001b[0;34m:\u001b[0m\u001b[0;34m\u001b[0m\u001b[0;34m\u001b[0m\u001b[0m\n",
            "\u001b[0;32m/usr/local/lib/python3.12/dist-packages/simplejson/decoder.py\u001b[0m in \u001b[0;36mdecode\u001b[0;34m(self, s, _w, _PY3)\u001b[0m\n\u001b[1;32m    385\u001b[0m             \u001b[0ms\u001b[0m \u001b[0;34m=\u001b[0m \u001b[0mstr\u001b[0m\u001b[0;34m(\u001b[0m\u001b[0ms\u001b[0m\u001b[0;34m,\u001b[0m \u001b[0mself\u001b[0m\u001b[0;34m.\u001b[0m\u001b[0mencoding\u001b[0m\u001b[0;34m)\u001b[0m\u001b[0;34m\u001b[0m\u001b[0;34m\u001b[0m\u001b[0m\n\u001b[0;32m--> 386\u001b[0;31m         \u001b[0mobj\u001b[0m\u001b[0;34m,\u001b[0m \u001b[0mend\u001b[0m \u001b[0;34m=\u001b[0m \u001b[0mself\u001b[0m\u001b[0;34m.\u001b[0m\u001b[0mraw_decode\u001b[0m\u001b[0;34m(\u001b[0m\u001b[0ms\u001b[0m\u001b[0;34m)\u001b[0m\u001b[0;34m\u001b[0m\u001b[0;34m\u001b[0m\u001b[0m\n\u001b[0m\u001b[1;32m    387\u001b[0m         \u001b[0mend\u001b[0m \u001b[0;34m=\u001b[0m \u001b[0m_w\u001b[0m\u001b[0;34m(\u001b[0m\u001b[0ms\u001b[0m\u001b[0;34m,\u001b[0m \u001b[0mend\u001b[0m\u001b[0;34m)\u001b[0m\u001b[0;34m.\u001b[0m\u001b[0mend\u001b[0m\u001b[0;34m(\u001b[0m\u001b[0;34m)\u001b[0m\u001b[0;34m\u001b[0m\u001b[0;34m\u001b[0m\u001b[0m\n",
            "\u001b[0;32m/usr/local/lib/python3.12/dist-packages/simplejson/decoder.py\u001b[0m in \u001b[0;36mraw_decode\u001b[0;34m(self, s, idx, _w, _PY3)\u001b[0m\n\u001b[1;32m    415\u001b[0m                 \u001b[0midx\u001b[0m \u001b[0;34m+=\u001b[0m \u001b[0;36m3\u001b[0m\u001b[0;34m\u001b[0m\u001b[0;34m\u001b[0m\u001b[0m\n\u001b[0;32m--> 416\u001b[0;31m         \u001b[0;32mreturn\u001b[0m \u001b[0mself\u001b[0m\u001b[0;34m.\u001b[0m\u001b[0mscan_once\u001b[0m\u001b[0;34m(\u001b[0m\u001b[0ms\u001b[0m\u001b[0;34m,\u001b[0m \u001b[0midx\u001b[0m\u001b[0;34m=\u001b[0m\u001b[0m_w\u001b[0m\u001b[0;34m(\u001b[0m\u001b[0ms\u001b[0m\u001b[0;34m,\u001b[0m \u001b[0midx\u001b[0m\u001b[0;34m)\u001b[0m\u001b[0;34m.\u001b[0m\u001b[0mend\u001b[0m\u001b[0;34m(\u001b[0m\u001b[0;34m)\u001b[0m\u001b[0;34m)\u001b[0m\u001b[0;34m\u001b[0m\u001b[0;34m\u001b[0m\u001b[0m\n\u001b[0m",
            "\u001b[0;31mJSONDecodeError\u001b[0m: Expecting value: line 1 column 1 (char 0)",
            "\nDuring handling of the above exception, another exception occurred:\n",
            "\u001b[0;31mJSONDecodeError\u001b[0m                           Traceback (most recent call last)",
            "\u001b[0;32m/tmp/ipython-input-1188277866.py\u001b[0m in \u001b[0;36m<cell line: 0>\u001b[0;34m()\u001b[0m\n\u001b[1;32m      1\u001b[0m \u001b[0;32mimport\u001b[0m \u001b[0mrequests\u001b[0m\u001b[0;34m\u001b[0m\u001b[0;34m\u001b[0m\u001b[0m\n\u001b[1;32m      2\u001b[0m \u001b[0mresponse\u001b[0m \u001b[0;34m=\u001b[0m \u001b[0mrequests\u001b[0m\u001b[0;34m.\u001b[0m\u001b[0mget\u001b[0m\u001b[0;34m(\u001b[0m\u001b[0;34m\"https://hossenkhodadadi.github.io/\"\u001b[0m\u001b[0;34m)\u001b[0m\u001b[0;34m\u001b[0m\u001b[0;34m\u001b[0m\u001b[0m\n\u001b[0;32m----> 3\u001b[0;31m \u001b[0mdata\u001b[0m \u001b[0;34m=\u001b[0m \u001b[0mresponse\u001b[0m\u001b[0;34m.\u001b[0m\u001b[0mjson\u001b[0m\u001b[0;34m(\u001b[0m\u001b[0;34m)\u001b[0m\u001b[0;34m\u001b[0m\u001b[0;34m\u001b[0m\u001b[0m\n\u001b[0m\u001b[1;32m      4\u001b[0m \u001b[0mprint\u001b[0m\u001b[0;34m(\u001b[0m\u001b[0mdata\u001b[0m\u001b[0;34m)\u001b[0m\u001b[0;34m\u001b[0m\u001b[0;34m\u001b[0m\u001b[0m\n",
            "\u001b[0;32m/usr/local/lib/python3.12/dist-packages/requests/models.py\u001b[0m in \u001b[0;36mjson\u001b[0;34m(self, **kwargs)\u001b[0m\n\u001b[1;32m    978\u001b[0m             \u001b[0;31m# Catch JSON-related errors and raise as requests.JSONDecodeError\u001b[0m\u001b[0;34m\u001b[0m\u001b[0;34m\u001b[0m\u001b[0m\n\u001b[1;32m    979\u001b[0m             \u001b[0;31m# This aliases json.JSONDecodeError and simplejson.JSONDecodeError\u001b[0m\u001b[0;34m\u001b[0m\u001b[0;34m\u001b[0m\u001b[0m\n\u001b[0;32m--> 980\u001b[0;31m             \u001b[0;32mraise\u001b[0m \u001b[0mRequestsJSONDecodeError\u001b[0m\u001b[0;34m(\u001b[0m\u001b[0me\u001b[0m\u001b[0;34m.\u001b[0m\u001b[0mmsg\u001b[0m\u001b[0;34m,\u001b[0m \u001b[0me\u001b[0m\u001b[0;34m.\u001b[0m\u001b[0mdoc\u001b[0m\u001b[0;34m,\u001b[0m \u001b[0me\u001b[0m\u001b[0;34m.\u001b[0m\u001b[0mpos\u001b[0m\u001b[0;34m)\u001b[0m\u001b[0;34m\u001b[0m\u001b[0;34m\u001b[0m\u001b[0m\n\u001b[0m\u001b[1;32m    981\u001b[0m \u001b[0;34m\u001b[0m\u001b[0m\n\u001b[1;32m    982\u001b[0m     \u001b[0;34m@\u001b[0m\u001b[0mproperty\u001b[0m\u001b[0;34m\u001b[0m\u001b[0;34m\u001b[0m\u001b[0m\n",
            "\u001b[0;31mJSONDecodeError\u001b[0m: Expecting value: line 1 column 1 (char 0)"
          ]
        }
      ]
    },
    {
      "cell_type": "code",
      "source": [
        "import json\n",
        "info = {'name': 'John', 'age': 30, 'city': 'New York'}\n",
        "# response = requests.post(\"https://httpbin.org/post\", json=info)\n",
        "jsoned = json.dumps(info)\n",
        "print(type(jsoned))\n",
        "\n",
        "dicted = json.loads(jsoned)\n",
        "dicted"
      ],
      "metadata": {
        "colab": {
          "base_uri": "https://localhost:8080/"
        },
        "id": "N19HQFKSxChs",
        "outputId": "c8b2f07c-8a37-4a70-f656-d13f8f2a4555"
      },
      "execution_count": null,
      "outputs": [
        {
          "output_type": "stream",
          "name": "stdout",
          "text": [
            "<class 'str'>\n"
          ]
        },
        {
          "output_type": "execute_result",
          "data": {
            "text/plain": [
              "{'name': 'John', 'age': 30, 'city': 'New York'}"
            ]
          },
          "metadata": {},
          "execution_count": 7
        }
      ]
    },
    {
      "cell_type": "code",
      "source": [
        "url = \"http://api.open-notify.org/astros.json\"\n",
        "response = requests.get(url)\n",
        "response\n",
        "data = response.json()\n",
        "data['people'][0]"
      ],
      "metadata": {
        "colab": {
          "base_uri": "https://localhost:8080/"
        },
        "id": "kTbAACtj_dzv",
        "outputId": "6eba119f-e216-4575-af8c-3697d66e40ac"
      },
      "execution_count": null,
      "outputs": [
        {
          "output_type": "execute_result",
          "data": {
            "text/plain": [
              "{'craft': 'ISS', 'name': 'Oleg Kononenko'}"
            ]
          },
          "metadata": {},
          "execution_count": 14
        }
      ]
    },
    {
      "cell_type": "code",
      "source": [
        "data['people'][0]['name']"
      ],
      "metadata": {
        "colab": {
          "base_uri": "https://localhost:8080/",
          "height": 35
        },
        "id": "yHCwcMsaAp1C",
        "outputId": "e18cebc6-c79f-48e9-a675-4e144da91e01"
      },
      "execution_count": null,
      "outputs": [
        {
          "output_type": "execute_result",
          "data": {
            "text/plain": [
              "'Oleg Kononenko'"
            ],
            "application/vnd.google.colaboratory.intrinsic+json": {
              "type": "string"
            }
          },
          "metadata": {},
          "execution_count": 16
        }
      ]
    },
    {
      "cell_type": "code",
      "source": [
        "write a progam that gives you bitcoin price\n",
        "post request"
      ],
      "metadata": {
        "id": "dZ9gkiknBqOv"
      },
      "execution_count": null,
      "outputs": []
    },
    {
      "cell_type": "code",
      "source": [
        "flask"
      ],
      "metadata": {
        "id": "KyBn0Z72MgVZ"
      },
      "execution_count": null,
      "outputs": []
    }
  ]
}